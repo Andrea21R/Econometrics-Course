{
 "cells": [
  {
   "cell_type": "code",
   "execution_count": 1,
   "id": "32484173",
   "metadata": {},
   "outputs": [],
   "source": [
    "import numpy as np\n",
    "from scipy.optimize import minimize\n",
    "from scipy.stats import t\n",
    "from scipy.stats import norm\n",
    "from scipy.stats import chi2"
   ]
  },
  {
   "cell_type": "markdown",
   "id": "3aa71710",
   "metadata": {},
   "source": [
    "Generalized method of moments with serially uncorrelated observations"
   ]
  },
  {
   "cell_type": "markdown",
   "id": "3d6d3b35",
   "metadata": {},
   "source": [
    "1. Data simulation"
   ]
  },
  {
   "cell_type": "code",
   "execution_count": 2,
   "id": "b6c804c8",
   "metadata": {},
   "outputs": [],
   "source": [
    "nu = 11\n",
    "r = t.rvs(nu, size = 1000)"
   ]
  },
  {
   "cell_type": "markdown",
   "id": "1063d12e",
   "metadata": {},
   "source": [
    "2. Define the moment condition"
   ]
  },
  {
   "cell_type": "code",
   "execution_count": 3,
   "id": "ed053efc",
   "metadata": {},
   "outputs": [],
   "source": [
    "def moment_cond(nu, data):\n",
    "    h_1 = data**2-nu/(nu-2)\n",
    "    h_2 = data**4-(3*nu**2)/((nu-2)*(nu-4))\n",
    "    Moment_conditions = np.vstack((h_1, h_2))\n",
    "    Moment_conditions = Moment_conditions.transpose()\n",
    "    return Moment_conditions"
   ]
  },
  {
   "cell_type": "code",
   "execution_count": 4,
   "id": "4125a255",
   "metadata": {},
   "outputs": [],
   "source": [
    "def g_hat(nu, data):\n",
    "    T = len(data)\n",
    "    h_1 = (1/T)*sum(data**2)-nu/(nu-2)\n",
    "    h_2 = (1/T)*sum(data**4)-(3*nu**2)/((nu-2)*(nu-4))\n",
    "    Moment_conditions = np.vstack((h_1, h_2))\n",
    "    return Moment_conditions"
   ]
  },
  {
   "cell_type": "code",
   "execution_count": 5,
   "id": "491d72b5",
   "metadata": {},
   "outputs": [],
   "source": [
    "def obj_func(nu, data, Omega):\n",
    "    T = len(data)\n",
    "    h_1 = (1/T)*sum(data**2)-nu/(nu-2)\n",
    "    h_2 = (1/T)*sum(data**4)-(3*nu**2)/((nu-2)*(nu-4))\n",
    "    g_bar = np.hstack((h_1, h_2))\n",
    "    invOmega = np.linalg.inv(Omega)\n",
    "    Obj_Fun = g_bar @ invOmega @ g_bar.transpose()\n",
    "    return Obj_Fun"
   ]
  },
  {
   "cell_type": "code",
   "execution_count": 6,
   "id": "feebd2a8",
   "metadata": {},
   "outputs": [],
   "source": [
    "beta = np.array([4.5])\n",
    "bnds = [(4.00001, None)]\n",
    "MaxIter = 10000;\n",
    "GMM_toll1 = 0.000000003\n",
    "GMM_toll2 = 0.000000004\n",
    "k = 2                                   # Number of conditions\n",
    "Omega = np.identity(k)                  # Initial weigthting matrix\n",
    "T = len(r)\n",
    "args = (r, Omega)\n",
    "Init_func = 10000\n",
    "GMM_lags = 0                            # for serially incorrelated observation choose GMM_lags = 0\n",
    "i = 1\n",
    "while i <= MaxIter:\n",
    "    res = minimize(obj_func, beta, args = args, bounds = bnds, options = {'gtol': 1e-6, 'disp': True})\n",
    "    if abs(res.fun-Init_func<GMM_toll1) and abs(res.x-beta<GMM_toll2):\n",
    "        break\n",
    "    H = moment_cond(res.x,r)\n",
    "    mH = np.zeros((1,k))\n",
    "    for j in range(0,k):\n",
    "        mH[0,j] = np.mean(H[:,j])\n",
    "    H = H - np.kron(mH, np.ones((H.shape[0],1)))\n",
    "    Omega = (H.transpose() @ H)/T\n",
    "    for j in range(0,GMM_lags):\n",
    "        Gamma = (H[j+1:T, :].transpose() @ H[0:T-j-1, :])/T\n",
    "        Omega = Omega + (1-(j+1)/(GMM_lags+1))*(Gamma + Gamma.transpose())\n",
    "    Init_func = res.fun\n",
    "    beta = res.x\n",
    "    i = i + 1"
   ]
  },
  {
   "cell_type": "code",
   "execution_count": 7,
   "id": "986aa38c",
   "metadata": {},
   "outputs": [],
   "source": [
    "# Gradient (forward)\n",
    "h = 0.00001\n",
    "pos = np.identity(len(beta))\n",
    "Grad = np.zeros((k, len(beta)))\n",
    "for i in range(len(beta)):\n",
    "    Grad[:,i] = ((g_hat(np.multiply(beta,(1 + h*pos[:,i])), r) - g_hat(beta, r))/(beta[i]*h))[:,i]"
   ]
  },
  {
   "cell_type": "code",
   "execution_count": 8,
   "id": "03e583b1",
   "metadata": {},
   "outputs": [],
   "source": [
    "cov = (1/T)*np.linalg.inv(Grad.transpose() @ np.linalg.inv(Omega) @ Grad)\n",
    "stderr = np.sqrt(np.diag(cov))\n",
    "testt = beta/stderr\n",
    "p_value = 2*(1-norm.cdf(testt))"
   ]
  },
  {
   "cell_type": "markdown",
   "id": "dffe3255",
   "metadata": {},
   "source": [
    "Test for the overidentified restrictions (Sargan/Hansen)"
   ]
  },
  {
   "cell_type": "code",
   "execution_count": 9,
   "id": "5608c4d9",
   "metadata": {},
   "outputs": [],
   "source": [
    "k = Omega.shape[0] # number of conditions on moment\n",
    "r = cov.shape[0]   # number of parameters to be estimated\n",
    "df = k-r\n",
    "if k > r:\n",
    "    stat_test = T*Init_func\n",
    "    p_test = 1-chi2.cdf(stat_test,df)\n",
    "else:\n",
    "    stat_test = [ ]\n",
    "    p_test = [ ]"
   ]
  }
 ],
 "metadata": {
  "kernelspec": {
   "display_name": "Python 3",
   "language": "python",
   "name": "python3"
  },
  "language_info": {
   "codemirror_mode": {
    "name": "ipython",
    "version": 3
   },
   "file_extension": ".py",
   "mimetype": "text/x-python",
   "name": "python",
   "nbconvert_exporter": "python",
   "pygments_lexer": "ipython3",
   "version": "3.9.0"
  }
 },
 "nbformat": 4,
 "nbformat_minor": 5
}
