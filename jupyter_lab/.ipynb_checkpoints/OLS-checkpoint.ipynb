{
 "cells": [
  {
   "cell_type": "code",
   "execution_count": 225,
   "id": "79062348-bd48-4e8f-8b3b-1d867a3a954c",
   "metadata": {},
   "outputs": [],
   "source": [
    "import pandas as pd\n",
    "import numpy as np"
   ]
  },
  {
   "cell_type": "markdown",
   "id": "b1545d2c-5807-458e-ab1c-2eebba0b8c55",
   "metadata": {},
   "source": [
    "IMPORT DATA"
   ]
  },
  {
   "cell_type": "code",
   "execution_count": 226,
   "id": "10147b45-740b-4af8-b98f-08c5d7776b33",
   "metadata": {},
   "outputs": [],
   "source": [
    "# index_col setta una colonna come index di pd.DataFrame\n",
    "data: pd.DataFrame = pd.read_excel(\"C:/Users/andre/Desktop/Asset.xlsx\", index_col=\"datetime\")"
   ]
  },
  {
   "cell_type": "markdown",
   "id": "c239961a-bb38-4c8c-a815-f9c60d939061",
   "metadata": {},
   "source": [
    "CALC RETURNS"
   ]
  },
  {
   "cell_type": "code",
   "execution_count": 227,
   "id": "e06aea92-2d8e-468b-b8b1-cbc158963655",
   "metadata": {},
   "outputs": [
    {
     "data": {
      "text/html": [
       "<div>\n",
       "<style scoped>\n",
       "    .dataframe tbody tr th:only-of-type {\n",
       "        vertical-align: middle;\n",
       "    }\n",
       "\n",
       "    .dataframe tbody tr th {\n",
       "        vertical-align: top;\n",
       "    }\n",
       "\n",
       "    .dataframe thead th {\n",
       "        text-align: right;\n",
       "    }\n",
       "</style>\n",
       "<table border=\"1\" class=\"dataframe\">\n",
       "  <thead>\n",
       "    <tr style=\"text-align: right;\">\n",
       "      <th></th>\n",
       "      <th>AAPL</th>\n",
       "      <th>ABI</th>\n",
       "      <th>W5000</th>\n",
       "      <th>SP500</th>\n",
       "      <th>EUR_USD</th>\n",
       "      <th>USD_YEN</th>\n",
       "    </tr>\n",
       "    <tr>\n",
       "      <th>datetime</th>\n",
       "      <th></th>\n",
       "      <th></th>\n",
       "      <th></th>\n",
       "      <th></th>\n",
       "      <th></th>\n",
       "      <th></th>\n",
       "    </tr>\n",
       "  </thead>\n",
       "  <tbody>\n",
       "    <tr>\n",
       "      <th>2009-01-05</th>\n",
       "      <td>0.041338</td>\n",
       "      <td>0.098272</td>\n",
       "      <td>-0.022958</td>\n",
       "      <td>-0.004679</td>\n",
       "      <td>0.001071</td>\n",
       "      <td>0.000738</td>\n",
       "    </tr>\n",
       "    <tr>\n",
       "      <th>2009-01-06</th>\n",
       "      <td>-0.016632</td>\n",
       "      <td>-0.017332</td>\n",
       "      <td>-0.024068</td>\n",
       "      <td>0.007787</td>\n",
       "      <td>-0.001357</td>\n",
       "      <td>0.001685</td>\n",
       "    </tr>\n",
       "    <tr>\n",
       "      <th>2009-01-07</th>\n",
       "      <td>-0.021845</td>\n",
       "      <td>-0.006007</td>\n",
       "      <td>0.003633</td>\n",
       "      <td>-0.030469</td>\n",
       "      <td>-0.011139</td>\n",
       "      <td>0.003467</td>\n",
       "    </tr>\n",
       "    <tr>\n",
       "      <th>2009-01-08</th>\n",
       "      <td>0.018399</td>\n",
       "      <td>0.039262</td>\n",
       "      <td>-0.035037</td>\n",
       "      <td>0.003391</td>\n",
       "      <td>0.007129</td>\n",
       "      <td>0.016641</td>\n",
       "    </tr>\n",
       "    <tr>\n",
       "      <th>2009-01-09</th>\n",
       "      <td>-0.023135</td>\n",
       "      <td>-0.010968</td>\n",
       "      <td>0.004174</td>\n",
       "      <td>-0.021533</td>\n",
       "      <td>0.015662</td>\n",
       "      <td>-0.016641</td>\n",
       "    </tr>\n",
       "  </tbody>\n",
       "</table>\n",
       "</div>"
      ],
      "text/plain": [
       "                AAPL       ABI     W5000     SP500   EUR_USD   USD_YEN\n",
       "datetime                                                              \n",
       "2009-01-05  0.041338  0.098272 -0.022958 -0.004679  0.001071  0.000738\n",
       "2009-01-06 -0.016632 -0.017332 -0.024068  0.007787 -0.001357  0.001685\n",
       "2009-01-07 -0.021845 -0.006007  0.003633 -0.030469 -0.011139  0.003467\n",
       "2009-01-08  0.018399  0.039262 -0.035037  0.003391  0.007129  0.016641\n",
       "2009-01-09 -0.023135 -0.010968  0.004174 -0.021533  0.015662 -0.016641"
      ]
     },
     "execution_count": 227,
     "metadata": {},
     "output_type": "execute_result"
    }
   ],
   "source": [
    "rf = 0.0001\n",
    "# applica log a data e dopo fa la differenza prima con diff(); dropna() elimina i NaN dal DataFrame\n",
    "# provare a stampare log_ret con e senza .dropna()\n",
    "log_ret: pd.DataFrame = np.log(data).diff().dropna()\n",
    "\n",
    "log_ret.head()"
   ]
  },
  {
   "cell_type": "code",
   "execution_count": 228,
   "id": "0a7b30b0-da9e-4d33-9054-e18e1a2ed4d3",
   "metadata": {},
   "outputs": [
    {
     "data": {
      "text/html": [
       "<div>\n",
       "<style scoped>\n",
       "    .dataframe tbody tr th:only-of-type {\n",
       "        vertical-align: middle;\n",
       "    }\n",
       "\n",
       "    .dataframe tbody tr th {\n",
       "        vertical-align: top;\n",
       "    }\n",
       "\n",
       "    .dataframe thead th {\n",
       "        text-align: right;\n",
       "    }\n",
       "</style>\n",
       "<table border=\"1\" class=\"dataframe\">\n",
       "  <thead>\n",
       "    <tr style=\"text-align: right;\">\n",
       "      <th></th>\n",
       "      <th>AAPL</th>\n",
       "      <th>ABI</th>\n",
       "      <th>W5000</th>\n",
       "      <th>SP500</th>\n",
       "      <th>EUR_USD</th>\n",
       "      <th>USD_YEN</th>\n",
       "    </tr>\n",
       "  </thead>\n",
       "  <tbody>\n",
       "    <tr>\n",
       "      <th>count</th>\n",
       "      <td>2767.0000</td>\n",
       "      <td>2767.0000</td>\n",
       "      <td>2767.0000</td>\n",
       "      <td>2767.0000</td>\n",
       "      <td>2767.0000</td>\n",
       "      <td>2767.0000</td>\n",
       "    </tr>\n",
       "    <tr>\n",
       "      <th>mean</th>\n",
       "      <td>0.0011</td>\n",
       "      <td>0.0004</td>\n",
       "      <td>0.0005</td>\n",
       "      <td>0.0004</td>\n",
       "      <td>-0.0001</td>\n",
       "      <td>0.0000</td>\n",
       "    </tr>\n",
       "    <tr>\n",
       "      <th>std</th>\n",
       "      <td>0.0167</td>\n",
       "      <td>0.0153</td>\n",
       "      <td>0.0105</td>\n",
       "      <td>0.0103</td>\n",
       "      <td>0.0056</td>\n",
       "      <td>0.0058</td>\n",
       "    </tr>\n",
       "    <tr>\n",
       "      <th>min</th>\n",
       "      <td>-0.1319</td>\n",
       "      <td>-0.1196</td>\n",
       "      <td>-0.0733</td>\n",
       "      <td>-0.0690</td>\n",
       "      <td>-0.0265</td>\n",
       "      <td>-0.0375</td>\n",
       "    </tr>\n",
       "    <tr>\n",
       "      <th>25%</th>\n",
       "      <td>-0.0070</td>\n",
       "      <td>-0.0077</td>\n",
       "      <td>-0.0037</td>\n",
       "      <td>-0.0035</td>\n",
       "      <td>-0.0033</td>\n",
       "      <td>-0.0030</td>\n",
       "    </tr>\n",
       "    <tr>\n",
       "      <th>50%</th>\n",
       "      <td>0.0010</td>\n",
       "      <td>0.0003</td>\n",
       "      <td>0.0006</td>\n",
       "      <td>0.0007</td>\n",
       "      <td>0.0000</td>\n",
       "      <td>0.0000</td>\n",
       "    </tr>\n",
       "    <tr>\n",
       "      <th>75%</th>\n",
       "      <td>0.0102</td>\n",
       "      <td>0.0087</td>\n",
       "      <td>0.0055</td>\n",
       "      <td>0.0053</td>\n",
       "      <td>0.0030</td>\n",
       "      <td>0.0031</td>\n",
       "    </tr>\n",
       "    <tr>\n",
       "      <th>max</th>\n",
       "      <td>0.0850</td>\n",
       "      <td>0.0983</td>\n",
       "      <td>0.0677</td>\n",
       "      <td>0.0684</td>\n",
       "      <td>0.0302</td>\n",
       "      <td>0.0346</td>\n",
       "    </tr>\n",
       "  </tbody>\n",
       "</table>\n",
       "</div>"
      ],
      "text/plain": [
       "            AAPL        ABI      W5000      SP500    EUR_USD    USD_YEN\n",
       "count  2767.0000  2767.0000  2767.0000  2767.0000  2767.0000  2767.0000\n",
       "mean      0.0011     0.0004     0.0005     0.0004    -0.0001     0.0000\n",
       "std       0.0167     0.0153     0.0105     0.0103     0.0056     0.0058\n",
       "min      -0.1319    -0.1196    -0.0733    -0.0690    -0.0265    -0.0375\n",
       "25%      -0.0070    -0.0077    -0.0037    -0.0035    -0.0033    -0.0030\n",
       "50%       0.0010     0.0003     0.0006     0.0007     0.0000     0.0000\n",
       "75%       0.0102     0.0087     0.0055     0.0053     0.0030     0.0031\n",
       "max       0.0850     0.0983     0.0677     0.0684     0.0302     0.0346"
      ]
     },
     "execution_count": 228,
     "metadata": {},
     "output_type": "execute_result"
    }
   ],
   "source": [
    "log_ret.describe().round(4)"
   ]
  },
  {
   "cell_type": "markdown",
   "id": "0d640317-b80f-4e9e-b993-a9874fb11b33",
   "metadata": {},
   "source": [
    "DEFINES INPUT FOR REGRESSION"
   ]
  },
  {
   "cell_type": "code",
   "execution_count": 229,
   "id": "08b49e0b-fc02-4a58-b41c-d168853a14bc",
   "metadata": {},
   "outputs": [],
   "source": [
    "Y: pd.DataFrame = log_ret.loc[:, [\"AAPL\"]] - rf # usare [] quando si selezionano le colonne per ottenere un pd.DataFrame \n",
    "X: pd.DataFrame = log_ret.loc[:, [\"SP500\", \"EUR_USD\"]]  # seleziona mkt factor e tasso cambio\n",
    "\n",
    "X.loc[:, \"SP500\"] = X.loc[:, \"SP500\"] - rf  # sostituisce mkt factor con mkt factor - risk_free\n",
    "# ALTERNATIVA: X.loc[\"SP500\"] -= rf\n",
    "X['constant'] = 1  # aggiunge una colonna di 1 IN ULTIMA POSIZIONE\n",
    "\n",
    "X: pd.DataFrame = X.loc[:, [\"constant\", \"SP500\", \"EUR_USD\"]]  # ri-definisco X come X che segue un'ordinamento delle colonne specifico"
   ]
  },
  {
   "cell_type": "code",
   "execution_count": 230,
   "id": "d776ad55-8076-45fc-8ee6-3e0463246f30",
   "metadata": {},
   "outputs": [
    {
     "data": {
      "text/html": [
       "<div>\n",
       "<style scoped>\n",
       "    .dataframe tbody tr th:only-of-type {\n",
       "        vertical-align: middle;\n",
       "    }\n",
       "\n",
       "    .dataframe tbody tr th {\n",
       "        vertical-align: top;\n",
       "    }\n",
       "\n",
       "    .dataframe thead th {\n",
       "        text-align: right;\n",
       "    }\n",
       "</style>\n",
       "<table border=\"1\" class=\"dataframe\">\n",
       "  <thead>\n",
       "    <tr style=\"text-align: right;\">\n",
       "      <th></th>\n",
       "      <th>AAPL</th>\n",
       "    </tr>\n",
       "    <tr>\n",
       "      <th>datetime</th>\n",
       "      <th></th>\n",
       "    </tr>\n",
       "  </thead>\n",
       "  <tbody>\n",
       "    <tr>\n",
       "      <th>2009-01-05</th>\n",
       "      <td>0.041238</td>\n",
       "    </tr>\n",
       "    <tr>\n",
       "      <th>2009-01-06</th>\n",
       "      <td>-0.016732</td>\n",
       "    </tr>\n",
       "    <tr>\n",
       "      <th>2009-01-07</th>\n",
       "      <td>-0.021945</td>\n",
       "    </tr>\n",
       "    <tr>\n",
       "      <th>2009-01-08</th>\n",
       "      <td>0.018299</td>\n",
       "    </tr>\n",
       "    <tr>\n",
       "      <th>2009-01-09</th>\n",
       "      <td>-0.023235</td>\n",
       "    </tr>\n",
       "  </tbody>\n",
       "</table>\n",
       "</div>"
      ],
      "text/plain": [
       "                AAPL\n",
       "datetime            \n",
       "2009-01-05  0.041238\n",
       "2009-01-06 -0.016732\n",
       "2009-01-07 -0.021945\n",
       "2009-01-08  0.018299\n",
       "2009-01-09 -0.023235"
      ]
     },
     "execution_count": 230,
     "metadata": {},
     "output_type": "execute_result"
    }
   ],
   "source": [
    "Y.head()"
   ]
  },
  {
   "cell_type": "code",
   "execution_count": 232,
   "id": "c1b6ca5d-3b83-4531-8c8b-0296f4f2fd73",
   "metadata": {},
   "outputs": [
    {
     "data": {
      "text/html": [
       "<div>\n",
       "<style scoped>\n",
       "    .dataframe tbody tr th:only-of-type {\n",
       "        vertical-align: middle;\n",
       "    }\n",
       "\n",
       "    .dataframe tbody tr th {\n",
       "        vertical-align: top;\n",
       "    }\n",
       "\n",
       "    .dataframe thead th {\n",
       "        text-align: right;\n",
       "    }\n",
       "</style>\n",
       "<table border=\"1\" class=\"dataframe\">\n",
       "  <thead>\n",
       "    <tr style=\"text-align: right;\">\n",
       "      <th></th>\n",
       "      <th>constant</th>\n",
       "      <th>SP500</th>\n",
       "      <th>EUR_USD</th>\n",
       "    </tr>\n",
       "    <tr>\n",
       "      <th>datetime</th>\n",
       "      <th></th>\n",
       "      <th></th>\n",
       "      <th></th>\n",
       "    </tr>\n",
       "  </thead>\n",
       "  <tbody>\n",
       "    <tr>\n",
       "      <th>2009-01-05</th>\n",
       "      <td>1</td>\n",
       "      <td>-0.004779</td>\n",
       "      <td>0.001071</td>\n",
       "    </tr>\n",
       "    <tr>\n",
       "      <th>2009-01-06</th>\n",
       "      <td>1</td>\n",
       "      <td>0.007687</td>\n",
       "      <td>-0.001357</td>\n",
       "    </tr>\n",
       "    <tr>\n",
       "      <th>2009-01-07</th>\n",
       "      <td>1</td>\n",
       "      <td>-0.030569</td>\n",
       "      <td>-0.011139</td>\n",
       "    </tr>\n",
       "    <tr>\n",
       "      <th>2009-01-08</th>\n",
       "      <td>1</td>\n",
       "      <td>0.003291</td>\n",
       "      <td>0.007129</td>\n",
       "    </tr>\n",
       "    <tr>\n",
       "      <th>2009-01-09</th>\n",
       "      <td>1</td>\n",
       "      <td>-0.021633</td>\n",
       "      <td>0.015662</td>\n",
       "    </tr>\n",
       "  </tbody>\n",
       "</table>\n",
       "</div>"
      ],
      "text/plain": [
       "            constant     SP500   EUR_USD\n",
       "datetime                                \n",
       "2009-01-05         1 -0.004779  0.001071\n",
       "2009-01-06         1  0.007687 -0.001357\n",
       "2009-01-07         1 -0.030569 -0.011139\n",
       "2009-01-08         1  0.003291  0.007129\n",
       "2009-01-09         1 -0.021633  0.015662"
      ]
     },
     "execution_count": 232,
     "metadata": {},
     "output_type": "execute_result"
    }
   ],
   "source": [
    "X.head()"
   ]
  },
  {
   "cell_type": "markdown",
   "id": "718a2d9d-f1df-4a38-91b8-dffee9a47a8b",
   "metadata": {},
   "source": [
    "CALC REGRESSION'S COEFFICIENTS"
   ]
  },
  {
   "cell_type": "code",
   "execution_count": 233,
   "id": "d4de5440-a46c-4381-b7ba-319adddaaa72",
   "metadata": {},
   "outputs": [
    {
     "data": {
      "text/html": [
       "<div>\n",
       "<style scoped>\n",
       "    .dataframe tbody tr th:only-of-type {\n",
       "        vertical-align: middle;\n",
       "    }\n",
       "\n",
       "    .dataframe tbody tr th {\n",
       "        vertical-align: top;\n",
       "    }\n",
       "\n",
       "    .dataframe thead th {\n",
       "        text-align: right;\n",
       "    }\n",
       "</style>\n",
       "<table border=\"1\" class=\"dataframe\">\n",
       "  <thead>\n",
       "    <tr style=\"text-align: right;\">\n",
       "      <th></th>\n",
       "      <th>AAPL</th>\n",
       "    </tr>\n",
       "  </thead>\n",
       "  <tbody>\n",
       "    <tr>\n",
       "      <th>constant</th>\n",
       "      <td>0.000682</td>\n",
       "    </tr>\n",
       "    <tr>\n",
       "      <th>SP500</th>\n",
       "      <td>0.993171</td>\n",
       "    </tr>\n",
       "    <tr>\n",
       "      <th>EUR_USD</th>\n",
       "      <td>0.014083</td>\n",
       "    </tr>\n",
       "  </tbody>\n",
       "</table>\n",
       "</div>"
      ],
      "text/plain": [
       "              AAPL\n",
       "constant  0.000682\n",
       "SP500     0.993171\n",
       "EUR_USD   0.014083"
      ]
     },
     "execution_count": 233,
     "metadata": {},
     "output_type": "execute_result"
    }
   ],
   "source": [
    "coeffs: pd.DataFrame = np.linalg.inv(X.transpose() @ X) @ X.transpose() @ Y\n",
    "coeffs.index = X.columns  # oltre al matching tra (rows, columns) matriciale; deve matchare anche il nome delle righe con quello delle colonne\n",
    "coeffs"
   ]
  },
  {
   "cell_type": "code",
   "execution_count": 234,
   "id": "1e88c6d6-ca4f-4067-ae7d-42f07e2fbcc9",
   "metadata": {},
   "outputs": [
    {
     "data": {
      "image/png": "[encoded data removed]",
      "text/plain": [
       "<Figure size 432x288 with 1 Axes>"
      ]
     },
     "metadata": {
      "needs_background": "light"
     },
     "output_type": "display_data"
    }
   ],
   "source": [
    "Y_hat: pd.DataFrame = X @ coeffs\n",
    "\n",
    "plt.figure()\n",
    "plt.scatter(x=Y, y=Y_hat, alpha=0.5, edgecolor='cyan')\n",
    "plt.plot()\n",
    "\n",
    "plt.xlabel(\"AAPL\")\n",
    "plt.ylabel(\"AAPL_fitted\")\n",
    "plt.grid(linestyle='dashed')\n",
    "plt.title(\"CAPM on AAPL stock\", fontweight='bold')\n",
    "\n",
    "plt.show()\n",
    "\n",
    "# super estetica, utilizzare libreria seaborn"
   ]
  },
  {
   "cell_type": "code",
   "execution_count": 235,
   "id": "6e0e5fbb-a12c-466e-ba73-69026b4610b5",
   "metadata": {},
   "outputs": [],
   "source": [
    "err: pd.DataFrame = Y - Y_hat\n",
    "# SSE = np.sum(err ** 2)\n",
    "SSE: np.array = (err.transpose() @ err).values\n",
    "# np.var(err ** 2)\n",
    "# var_e = (err ** 2).var()  #non fa diviso n-k\n",
    "var_e: np.array = (np.sum((err**2 - np.mean(err**2))**2) / len(err - X.shape[1])).values  # la più precisa\n",
    "std_e: np.array = var_e ** (1/2)\n"
   ]
  },
  {
   "cell_type": "code",
   "execution_count": 236,
   "id": "c6c72e80-272b-4a85-af2c-da7707095044",
   "metadata": {},
   "outputs": [
    {
     "data": {
      "text/plain": [
       "array([[ 1.12890977e-10, -3.71509956e-10,  2.80248007e-10],\n",
       "       [-3.71509956e-10,  1.06993868e-06,  2.84175195e-08],\n",
       "       [ 2.80248007e-10,  2.84175195e-08,  3.62196071e-06]])"
      ]
     },
     "execution_count": 236,
     "metadata": {},
     "output_type": "execute_result"
    }
   ],
   "source": [
    "varcov: np.array = np.linalg.inv(X.transpose() @ X) * var_e\n",
    "varcov"
   ]
  },
  {
   "cell_type": "code",
   "execution_count": 237,
   "id": "ed8708ee-591e-415a-8130-94e8b8a8cd85",
   "metadata": {},
   "outputs": [
    {
     "data": {
      "text/plain": [
       "array([1.12890977e-10, 1.06993868e-06, 3.62196071e-06])"
      ]
     },
     "execution_count": 237,
     "metadata": {},
     "output_type": "execute_result"
    }
   ],
   "source": [
    "variances = np.diag(varcov)\n",
    "variances"
   ]
  },
  {
   "cell_type": "code",
   "execution_count": 238,
   "id": "8b334963-0111-48b9-bdee-4267115a8b0b",
   "metadata": {},
   "outputs": [
    {
     "data": {
      "text/html": [
       "<div>\n",
       "<style scoped>\n",
       "    .dataframe tbody tr th:only-of-type {\n",
       "        vertical-align: middle;\n",
       "    }\n",
       "\n",
       "    .dataframe tbody tr th {\n",
       "        vertical-align: top;\n",
       "    }\n",
       "\n",
       "    .dataframe thead th {\n",
       "        text-align: right;\n",
       "    }\n",
       "</style>\n",
       "<table border=\"1\" class=\"dataframe\">\n",
       "  <thead>\n",
       "    <tr style=\"text-align: right;\">\n",
       "      <th></th>\n",
       "      <th>AAPL</th>\n",
       "      <th>T-stat</th>\n",
       "    </tr>\n",
       "  </thead>\n",
       "  <tbody>\n",
       "    <tr>\n",
       "      <th>constant</th>\n",
       "      <td>0.000682</td>\n",
       "      <td>6.039497e+06</td>\n",
       "    </tr>\n",
       "    <tr>\n",
       "      <th>SP500</th>\n",
       "      <td>0.993171</td>\n",
       "      <td>9.282505e+05</td>\n",
       "    </tr>\n",
       "    <tr>\n",
       "      <th>EUR_USD</th>\n",
       "      <td>0.014083</td>\n",
       "      <td>3.888119e+03</td>\n",
       "    </tr>\n",
       "  </tbody>\n",
       "</table>\n",
       "</div>"
      ],
      "text/plain": [
       "              AAPL        T-stat\n",
       "constant  0.000682  6.039497e+06\n",
       "SP500     0.993171  9.282505e+05\n",
       "EUR_USD   0.014083  3.888119e+03"
      ]
     },
     "execution_count": 238,
     "metadata": {},
     "output_type": "execute_result"
    }
   ],
   "source": [
    "coeffs[\"T-stat\"] = coeffs[\"AAPL\"].values / variances\n",
    "coeffs"
   ]
  },
  {
   "cell_type": "code",
   "execution_count": 263,
   "id": "6dc0156d-2948-463e-958b-69b76e7cc2cd",
   "metadata": {},
   "outputs": [
    {
     "name": "stdout",
     "output_type": "stream",
     "text": [
      "Beta SP500 t-value:  928250.5288518186\n",
      "Beta EUR/USD t-value:  3888.1190908555154\n",
      "\n",
      "Critical Value t-student (a=0.05):  1.960822628798158\n",
      "\n",
      "fico, la regressione funzione\n"
     ]
    }
   ],
   "source": [
    "from scipy.stats import t as t_student\n",
    "\n",
    "t_stat_beta_mkt: float = coeffs.loc[\"SP500\", \"T-stat\"] \n",
    "t_stat_beta_fx: float = coeffs.loc[\"EUR_USD\", \"T-stat\"]\n",
    "T: int = X.shape[0]\n",
    "k: int = X.shape[1]\n",
    "    \n",
    "critical_value: float = np.abs(t_student.ppf(q=1 - 0.05/2, df=T-k))\n",
    "    \n",
    "print('Beta SP500 t-value: ', t_stat_beta_mkt)\n",
    "print('Beta EUR/USD t-value: ', t_stat_beta_fx)\n",
    "\n",
    "print('\\nCritical Value t-student (a=0.05): ', critical_value)\n",
    "\n",
    "if t_stat_beta_mkt > critical_value:\n",
    "    print('\\nfico, la regressione funzione')\n",
    "else:\n",
    "    print(\"\\nnoooo, mi do all'ippica\")"
   ]
  }
 ],
 "metadata": {
  "kernelspec": {
   "display_name": "Python 3",
   "language": "python",
   "name": "python3"
  },
  "language_info": {
   "codemirror_mode": {
    "name": "ipython",
    "version": 3
   },
   "file_extension": ".py",
   "mimetype": "text/x-python",
   "name": "python",
   "nbconvert_exporter": "python",
   "pygments_lexer": "ipython3",
   "version": "3.8.10"
  }
 },
 "nbformat": 4,
 "nbformat_minor": 5
}
