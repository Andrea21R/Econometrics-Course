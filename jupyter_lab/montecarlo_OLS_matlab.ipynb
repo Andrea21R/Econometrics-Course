{
 "cells": [
  {
   "cell_type": "code",
   "execution_count": null,
   "metadata": {},
   "outputs": [],
   "source": [
    "%Define the population parameters\n",
    "alpha=1;\n",
    "beta=1;\n",
    "\n",
    "% Sample size n\n",
    "n=10000;\n",
    "\n",
    "% Number of samples m\n",
    "m=1000;\n",
    "\n",
    "% Store the estimated beta in a vector\n",
    "beta_hat=zeros(m,1);\n",
    "\n",
    "for i=1:m\n",
    "\n",
    "    %Generate independent variable randomly \n",
    "    x=4*randn(n,1);\n",
    "    \n",
    "    %Generate errors in the population\n",
    "    e=randn(n,1);\n",
    "\n",
    "    %Generate the dependent variable\n",
    "    y=alpha+beta*x+e;\n",
    "    \n",
    "    %Generate the LS estimates of alpha and beta using matrix formulation\n",
    "    X=[ones(n,1) x];\n",
    "\n",
    "    beta_hatvec=(inv((X'*X)))*X'*y;\n",
    "    % Pull out only the second component - the estimate of beta\n",
    "\n",
    "    beta_hat(i)=beta_hatvec(2);\n",
    "\n",
    "end\n",
    "\n",
    " \n",
    "\n",
    " \n",
    "\n",
    "zoom=0.8;\n",
    "\n",
    "% Draw a histogram of the result\n",
    "\n",
    "FigHandle = figure('Position', [750, 300, 1049*zoom, 895*zoom]);\n",
    "\n",
    "hist(beta_hat,20)\n",
    "\n",
    "xlabel('Beta hat')"
   ]
  }
 ],
 "metadata": {
  "language_info": {
   "name": "python"
  },
  "orig_nbformat": 4
 },
 "nbformat": 4,
 "nbformat_minor": 2
}
