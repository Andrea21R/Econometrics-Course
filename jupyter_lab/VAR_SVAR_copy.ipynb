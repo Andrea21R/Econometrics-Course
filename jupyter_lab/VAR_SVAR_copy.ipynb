{
 "cells": [
  {
   "cell_type": "markdown",
   "id": "8319fb30",
   "metadata": {},
   "source": [
    "Vector Autoregressive (VAR)"
   ]
  },
  {
   "cell_type": "markdown",
   "id": "f150214a",
   "metadata": {},
   "source": [
    "Stimare un modello Vector Autoregressive per determinare l'effetto delle concorrenti sui titoli azionari delle compagnie analizzate. Commentare i risultati."
   ]
  },
  {
   "cell_type": "markdown",
   "id": "ab2d6f0a",
   "metadata": {},
   "source": [
    "Definiamo un modello VAR(p)"
   ]
  },
  {
   "cell_type": "markdown",
   "id": "ac23b926",
   "metadata": {},
   "source": [
    "$y_t=\\nu+A_{1}y_{t-1}+...+A_py_{t-p}+u_t$"
   ]
  },
  {
   "cell_type": "markdown",
   "id": "f2e68c0a",
   "metadata": {},
   "source": [
    "dove $A_i$ sono matrici di coefficienti $KxK$, $\\nu$ rappresenta il vettore delle intercette e $u_t$ un WN con matrice non singolare di covarianza $\\Sigma$."
   ]
  },
  {
   "cell_type": "markdown",
   "id": "4a053da2",
   "metadata": {},
   "source": [
    "Anche $y_t$ è un vettore. Nel nostro caso trivariato avremo:"
   ]
  },
  {
   "cell_type": "markdown",
   "id": "ded269ea",
   "metadata": {},
   "source": [
    "$\\begin{pmatrix}y_{1t}\\\\y_{2t}\\\\y_{3,t}\\end{pmatrix}=\\begin{pmatrix}\\nu_1\\\\\\nu_2\\\\\\nu_3\\end{pmatrix}+\\begin{pmatrix}a_{1,1} a_{1,2} a_{1,3}\\\\a_{2,1} a_{2,2} a_{2,3}\\\\a_{3,1} a_{3,2} a_{3,3}\\end{pmatrix}\\begin{pmatrix}y_{1,t-1}\\\\y_{2,t-1}\\\\y_{3,t-1}\\end{pmatrix}+\\begin{pmatrix}u_{1,t}\\\\u_{2,t}\\\\u_{3,t}\\end{pmatrix}$"
   ]
  },
  {
   "cell_type": "markdown",
   "id": "501f1a39",
   "metadata": {},
   "source": [
    "Dunque"
   ]
  },
  {
   "cell_type": "markdown",
   "id": "0f97256b",
   "metadata": {},
   "source": [
    "\\begin{eqnarray}\n",
    "y_{1,t}&=&\\nu_1+a_{1,1}y_{1,t-1}+a_{1,2}y_{2,t-1}+a_{1,3}y_{3,t-1}+u_{1,t}\\\\\n",
    "y_{2,t}&=&\\nu_2+a_{2,1}y_{1,t-1}+a_{2,2}y_{2,t-1}+a_{2,3}y_{3,t-1}+u_{2,t}\\\\\n",
    "y_{3,t}&=&\\nu_3+a_{3,1}y_{1,t-1}+a_{3,2}y_{2,t-1}+a_{3,3}y_{3,t-1}+u_{3,t}\\\\\n",
    "\\end{eqnarray}"
   ]
  },
  {
   "cell_type": "markdown",
   "id": "0c410135",
   "metadata": {},
   "source": [
    "con $cov(u_{it},u_{js})=\\sigma_{ij}$ solo quando $t=s$ e $0$ altrimenti."
   ]
  },
  {
   "cell_type": "markdown",
   "id": "2b8ade68",
   "metadata": {},
   "source": [
    "Andiamo a definire la matrice $Y$ con le osservazioni tra [t+1,T] ed esprimiamo la sua dipendenza dal passato tramite la matrice $X$ contenente le osservazioni [t,T-1] precedute da un vettore di $1$."
   ]
  },
  {
   "cell_type": "markdown",
   "id": "27bbe966",
   "metadata": {},
   "source": [
    "$Y=\\begin{pmatrix}y_{1,t+1} \\ y_{2,t+1}\\ y_{3,t+1}\\\\... \\ ... \\ ...\\\\y_{1,T} \\ y_{2,T} \\ y_{3,T}\\end{pmatrix}$"
   ]
  },
  {
   "cell_type": "markdown",
   "id": "3895e756",
   "metadata": {},
   "source": [
    "$X=\\begin{pmatrix}1 \\ y_{1,t} \\ y_{2,t} \\ y_{3,t}\\\\\n",
    "1 \\ y_{1,t+1} \\ y_{2,t+1} \\ y_{3,t+1}\\\\... ... ...\\\\\n",
    "1 \\ y_{1,T-1} \\ y_{2,T-1} \\ y_{3,T-1}\n",
    "\\end{pmatrix}$"
   ]
  },
  {
   "cell_type": "markdown",
   "id": "2915dac9",
   "metadata": {},
   "source": [
    "Il risultato della stima consiste in una matrice $b$ contenente il vettore delle intercette e la matrice $A$ costituita dai tre vettori dei parametri per ciascuna banca."
   ]
  },
  {
   "cell_type": "markdown",
   "id": "2220b6bf",
   "metadata": {},
   "source": [
    "$b=[\\nu,a_{1},a_{2},a_{3}]$"
   ]
  },
  {
   "cell_type": "markdown",
   "id": "662307c4",
   "metadata": {},
   "source": [
    "A questo si aggiunge la matrice  dei residui Normali:"
   ]
  },
  {
   "cell_type": "markdown",
   "id": "a3b6cd0b",
   "metadata": {},
   "source": [
    "$u=[u_1,u_2,...,u_3]$"
   ]
  },
  {
   "cell_type": "markdown",
   "id": "78c47840",
   "metadata": {},
   "source": [
    "Sinteticamente:"
   ]
  },
  {
   "cell_type": "markdown",
   "id": "e3050094",
   "metadata": {},
   "source": [
    "$Y=Xb+u$"
   ]
  },
  {
   "cell_type": "markdown",
   "id": "c9011afa",
   "metadata": {},
   "source": [
    "e dunque lo stimatore OLS  è dato da:"
   ]
  },
  {
   "cell_type": "markdown",
   "id": "469ffd73",
   "metadata": {},
   "source": [
    "$\\hat{b}=(X'X)^{-1}X'Y$"
   ]
  },
  {
   "cell_type": "code",
   "execution_count": null,
   "id": "25a80a09",
   "metadata": {},
   "outputs": [],
   "source": [
    "import pandas as pd\n",
    "import numpy as np"
   ]
  },
  {
   "cell_type": "code",
   "execution_count": null,
   "id": "559c592b",
   "metadata": {},
   "outputs": [],
   "source": [
    "Data: pd.DataFrame = pd.read_excel(\"C:/Users/Daniele Mancinelli/Desktop/Python_Financial_Econometrics/Banks.xlsx\", index_col=\"Date\")\n",
    "Data.head()"
   ]
  },
  {
   "cell_type": "code",
   "execution_count": null,
   "id": "7579e53b",
   "metadata": {},
   "outputs": [],
   "source": [
    "log_ret: pd.DataFrame = np.log(Data).diff().dropna()\n",
    "log_ret.head()"
   ]
  },
  {
   "cell_type": "code",
   "execution_count": null,
   "id": "660fab51",
   "metadata": {},
   "outputs": [],
   "source": [
    "T = log_ret.shape[0]\n",
    "Y: pd.DataFrame = log_ret.loc['2000-01-05':'2020-11-20',:]\n",
    "X: pd.DataFrame = log_ret.loc['2000-01-04':'2020-11-19',:]\n",
    "X['constant'] = 1 \n",
    "X: pd.DataFrame = X.loc[:, ['constant', 'BPE','ISP', 'UCG']]\n",
    "X.head()"
   ]
  },
  {
   "cell_type": "code",
   "execution_count": null,
   "id": "f36d7b9a",
   "metadata": {},
   "outputs": [],
   "source": [
    "X = X.to_numpy()\n",
    "Y = Y.to_numpy()"
   ]
  },
  {
   "cell_type": "code",
   "execution_count": null,
   "id": "5b14a5d4",
   "metadata": {},
   "outputs": [],
   "source": [
    "A_hat = np.linalg.inv(X.transpose() @ X) @ X.transpose() @ Y\n",
    "print(A_hat.round(4))"
   ]
  },
  {
   "cell_type": "markdown",
   "id": "6a246db5",
   "metadata": {},
   "source": [
    "Structural VAR"
   ]
  },
  {
   "cell_type": "markdown",
   "id": "da41f0cc",
   "metadata": {},
   "source": [
    "Vantaggio principale: tiene conto di interazioni contemporanee. Modelli super usati in macroeconomia.\n",
    "\n",
    "Il modello (caso bivariato) dunque può essere scritto come:"
   ]
  },
  {
   "cell_type": "markdown",
   "id": "b13330fe",
   "metadata": {},
   "source": [
    "\\begin{eqnarray}\n",
    "y_{1,t}&=&\\gamma_{1,0}+\\gamma_{1,2}y_{2,t}+\\gamma_{1,1}y_{1,t-1}+\\gamma_{1,2}y_{2,t-1}+c_{1}\\epsilon_{1,t}\\\\\n",
    "y_{2,t}&=&\\gamma_{2,0}+\\gamma_{2,1}y_{1,t}+\\gamma_{2,1}y_{1,t-1}+\\gamma_{2,2}y_{2,t-1}+c_{1}\\epsilon_{2,t}\n",
    "\\end{eqnarray}"
   ]
  },
  {
   "cell_type": "markdown",
   "id": "3e4c936e",
   "metadata": {},
   "source": [
    "ovvero:"
   ]
  },
  {
   "cell_type": "markdown",
   "id": "1f84c612",
   "metadata": {},
   "source": [
    "$GY_t=\\gamma_0+\\Gamma_1y_{t-1}+C\\epsilon_t$"
   ]
  },
  {
   "cell_type": "markdown",
   "id": "370b47aa",
   "metadata": {},
   "source": [
    "$G=\\begin{pmatrix}1 \\ -g_{1,2} \\\\ -g_{2,1} \\ 1\\end{pmatrix}$"
   ]
  },
  {
   "cell_type": "markdown",
   "id": "07d307cd",
   "metadata": {},
   "source": [
    "$C=\\begin{pmatrix}c_{1} \\ 0 \\\\ 0 \\ c_{2}\\end{pmatrix}$"
   ]
  },
  {
   "cell_type": "markdown",
   "id": "bcbb5d53",
   "metadata": {},
   "source": [
    "$\\begin{pmatrix}\\epsilon_{1,t} \\\\ \\epsilon_{2,t}\\end{pmatrix}\\sim i.i.d.\\begin{pmatrix}\\begin{pmatrix}0 \\\\ 0\\end{pmatrix}, D=\\begin{pmatrix}\\sigma_{1}^2 \\ 0 \\\\ 0 \\ \\sigma_2^2\\end{pmatrix}\\end{pmatrix}$"
   ]
  },
  {
   "cell_type": "markdown",
   "id": "1be1bd09",
   "metadata": {},
   "source": [
    "Possiamo riscrivere il problema in forma ridotta come:"
   ]
  },
  {
   "cell_type": "markdown",
   "id": "aa6af8f0",
   "metadata": {},
   "source": [
    "$Y_t=G^{-1}\\gamma_0+G^{-1}\\Gamma_1y_{t-1}+G^{-1}\\epsilon_{t},$"
   ]
  },
  {
   "cell_type": "markdown",
   "id": "3250241c",
   "metadata": {},
   "source": [
    "ovvero $Y_t=a_0+A_1Y_{t-1}+u_t$"
   ]
  },
  {
   "cell_type": "markdown",
   "id": "7567e984",
   "metadata": {},
   "source": [
    "dove $a_0=G^{-1}\\gamma_0$, $A_1=G^{-1}\\Gamma_{1}$ e $u_t=G^{-1}C\\epsilon_t.$"
   ]
  },
  {
   "cell_type": "markdown",
   "id": "989e1451",
   "metadata": {},
   "source": [
    "A questo punto si può procedere con la stima OLS di $A_1$. In generale, il problema consiste nello stimare $G$, il che è impossibile univocamente poiché una variazione della $Y_t$ potrebbe essere causato sia da $\\epsilon_{1,t}$ che da $\\epsilon_{2,t}$ e noi \n",
    "osserviamo solo $u_t$.\n",
    "In questo caso abbiamo:\n",
    "1. 10 parametri strutturali\n",
    "2. 9 parametri della forma ridotta.\n",
    "Abbiamo dunque un problema di identificazione.\n",
    "Dunque dobbiamo imporre delle restrizioni per identificare il modello."
   ]
  },
  {
   "cell_type": "markdown",
   "id": "2d9a2b87",
   "metadata": {},
   "source": [
    "Un approccio comune consiste nell'assumere una struttura ricorsiva del tipo:\n",
    "1. $y_{1,t}$ è influenzato solo da $\\epsilon_{1,t}$ \n",
    "2. $y_{2,t}$ è influenzato da $\\epsilon_{1,t}$ e $\\epsilon_{2,t}$ \n",
    "3. $y_{3,t}$ è influenzato da $\\epsilon_{1,t}$, $\\epsilon_{2,t}$ e $\\epsilon_{3,t}$"
   ]
  },
  {
   "cell_type": "markdown",
   "id": "eac011e3",
   "metadata": {},
   "source": [
    "In altre parole: l'ultima variabile è influenzata contemporaneamente da tutte le altre variabili, mentre la prima esclusivamente da se stessa.\n",
    "Dunque, si va ad agire sulla matrice G imponendo restrizioni come:  "
   ]
  },
  {
   "cell_type": "markdown",
   "id": "e2a776d3",
   "metadata": {},
   "source": [
    "$g_{1,2}=0$ e $g_{1,2}+g_{2,1}=0$"
   ]
  },
  {
   "cell_type": "markdown",
   "id": "afdfaa55",
   "metadata": {},
   "source": [
    "Esempio pratico: Real GDP e HICP targati EU."
   ]
  },
  {
   "cell_type": "markdown",
   "id": "4ae22e1c",
   "metadata": {},
   "source": [
    "Importo il dataset GDP contenente le seguenti serie storiche relative a tre Paesi europei (Italia, Francia e Germania), Fonte FRED:\n",
    "RGDP: Real Gross Domestic Product, Millions of Chained 2010 Euros, Quarterly, Seasonally Adjusted.\n",
    "HICP: Harmonized Index of Consumer Prices: All Items, Index 2015=100, Quarterly, Not Seasonally Adjusted. "
   ]
  },
  {
   "cell_type": "markdown",
   "id": "23ac9d71",
   "metadata": {},
   "source": [
    "Per ciascun Paese, possiamo stimare un modello tipo:\n",
    ", \n",
    "dove  indica gli incrementi, con l'obiettivo di ricavare .\n",
    "Caso ITALIA:\n",
    "Importo i dati, estraggo i dati relativi all'Italia e li inseriamo in una tabella a parte. Poi calcolo gli incrementi (in log) e plotto."
   ]
  },
  {
   "cell_type": "code",
   "execution_count": null,
   "id": "0e80c0d2",
   "metadata": {},
   "outputs": [],
   "source": [
    "Data: pd.DataFrame = pd.read_excel(\"C:/Users/Daniele Mancinelli/Desktop/Python_Financial_Econometrics/GDP.xlsx\", index_col=\"Date\")\n",
    "Data.head()"
   ]
  },
  {
   "cell_type": "code",
   "execution_count": null,
   "id": "65d7ac10",
   "metadata": {},
   "outputs": [],
   "source": [
    "D_IT: pd.DataFrame = Data.loc[:,[\"IT_RGDP\", \"IT_HICP\"]] \n",
    "D_IT[\"IT_RGDP\"] = D_IT[\"IT_RGDP\"]/100000\n",
    "D_dIT: pd.DataFrame = np.log(D_IT).diff().dropna()\n",
    "D_dIT.head()"
   ]
  },
  {
   "cell_type": "code",
   "execution_count": null,
   "id": "740f210c",
   "metadata": {},
   "outputs": [],
   "source": [
    "Y : pd.DataFrame = D_dIT.loc['1996-07-01':'2016-10-01',:]\n",
    "X : pd.DataFrame = D_dIT.loc['1996-04-01':'2016-07-01',:]\n",
    "T = Y.shape[0]"
   ]
  },
  {
   "cell_type": "code",
   "execution_count": null,
   "id": "4428cc37",
   "metadata": {},
   "outputs": [],
   "source": [
    "X = X.to_numpy()\n",
    "Y = Y.to_numpy()\n",
    "A_hat = np.linalg.inv(X.transpose() @ X) @ X.transpose() @ Y\n",
    "print(A_hat.round(4))"
   ]
  },
  {
   "cell_type": "code",
   "execution_count": null,
   "id": "0e777c09",
   "metadata": {},
   "outputs": [],
   "source": [
    "Omega_hat = ((Y - X @ A_hat).transpose() @ (Y - X @ A_hat))/T\n",
    "print(Omega_hat)"
   ]
  },
  {
   "cell_type": "code",
   "execution_count": null,
   "id": "f922dfce",
   "metadata": {},
   "outputs": [],
   "source": [
    "sigma1_hat = Omega_hat[0,0]\n",
    "g21_hat = - Omega_hat[1,0]/sigma1_hat\n",
    "sigma2_hat = Omega_hat[1,1]-(g21_hat**2)*Omega_hat[0,0]\n",
    "G_hat = np.array([[1,0],[g21_hat,1]])\n",
    "print(G_hat)"
   ]
  },
  {
   "cell_type": "code",
   "execution_count": null,
   "id": "8b575dbe",
   "metadata": {},
   "outputs": [],
   "source": [
    "gamma11_hat = A_hat[0,0]\n",
    "gamma12_hat = A_hat[1,1]\n",
    "gamma21_hat = A_hat[1,0]+g21_hat*A_hat[0,0];\n",
    "gamma22_hat = A_hat[1,1]+g21_hat*A_hat[0,1];\n",
    "Gamma_hat = np.array([[gamma11_hat, gamma12_hat],[gamma21_hat, gamma22_hat]])\n",
    "print(Gamma_hat)"
   ]
  },
  {
   "cell_type": "code",
   "execution_count": null,
   "id": "4480fd51",
   "metadata": {},
   "outputs": [],
   "source": [
    "D = np.array([[sigma1_hat, 0],[0, sigma2_hat]])\n",
    "print(D)"
   ]
  },
  {
   "cell_type": "markdown",
   "id": "3a559d81",
   "metadata": {},
   "source": [
    "Impulse Response Function (IRF)"
   ]
  },
  {
   "cell_type": "markdown",
   "id": "ae3cd2bf",
   "metadata": {},
   "source": [
    "Rispondono alla domanda: che succede alla variabile $j$ dopo aver applicato uno shock sulla variabile $i$?"
   ]
  },
  {
   "cell_type": "code",
   "execution_count": null,
   "id": "d3f21831",
   "metadata": {},
   "outputs": [],
   "source": [
    "K = 20\n",
    "N = 2\n",
    "IRF = np.zeros((1,N*N*K))\n",
    "IRF = np.reshape(IRF,(K,N,N))\n",
    "for i in range(0,K):\n",
    "    IRF[i,:,:] = (G_hat**(i)) @ np.linalg.inv(Gamma_hat)\n",
    "print(IRF)"
   ]
  },
  {
   "cell_type": "code",
   "execution_count": null,
   "id": "e347dedd",
   "metadata": {},
   "outputs": [],
   "source": [
    "IRF_11 = np.zeros((K,1))\n",
    "IRF_12 = np.zeros((K,1))\n",
    "IRF_21 = np.zeros((K,1))\n",
    "IRF_22 = np.zeros((K,1))\n",
    "for i in range(0,K):\n",
    "    IRF_11[i] = IRF[i,0,0]\n",
    "    IRF_12[i] = IRF[i,0,1]\n",
    "    IRF_21[i] = IRF[i,1,0]\n",
    "    IRF_22[i] = IRF[i,1,1]"
   ]
  },
  {
   "cell_type": "code",
   "execution_count": null,
   "id": "2c1221ff",
   "metadata": {},
   "outputs": [],
   "source": [
    "import matplotlib.pyplot as plt"
   ]
  },
  {
   "cell_type": "code",
   "execution_count": null,
   "id": "57cc5dc6",
   "metadata": {},
   "outputs": [],
   "source": [
    "plt.plot(range(0,K), IRF_11)\n",
    "plt.suptitle('IRF from $\\epsilon_{1,t}$ to $y_{1,t+s}$')\n",
    "plt.show()"
   ]
  },
  {
   "cell_type": "code",
   "execution_count": null,
   "id": "4977477f",
   "metadata": {},
   "outputs": [],
   "source": [
    "plt.plot(range(0,K), IRF_12)\n",
    "plt.suptitle('IRF from $\\epsilon_{2,t}$ to $y_{1,t+s}$')\n",
    "plt.show()"
   ]
  },
  {
   "cell_type": "code",
   "execution_count": null,
   "id": "222c2e46",
   "metadata": {},
   "outputs": [],
   "source": [
    "plt.plot(range(0,K), IRF_21)\n",
    "plt.suptitle('IRF from $\\epsilon_{1,t}$ to $y_{2,t+s}$')\n",
    "plt.show()"
   ]
  },
  {
   "cell_type": "code",
   "execution_count": null,
   "id": "db1502cf",
   "metadata": {},
   "outputs": [],
   "source": [
    "plt.plot(range(0,K), IRF_22)\n",
    "plt.suptitle('IRF from $\\epsilon_{2,t}$ to $y_{2,t+s}$')\n",
    "plt.show()"
   ]
  }
 ],
 "metadata": {
  "kernelspec": {
   "display_name": "Python 3",
   "language": "python",
   "name": "python3"
  },
  "language_info": {
   "codemirror_mode": {
    "name": "ipython",
    "version": 3
   },
   "file_extension": ".py",
   "mimetype": "text/x-python",
   "name": "python",
   "nbconvert_exporter": "python",
   "pygments_lexer": "ipython3",
   "version": "3.7.10"
  }
 },
 "nbformat": 4,
 "nbformat_minor": 5
}
