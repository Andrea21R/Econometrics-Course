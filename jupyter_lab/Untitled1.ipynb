{
 "cells": [
  {
   "cell_type": "code",
   "execution_count": 6,
   "id": "8490e915-4341-4f71-ba79-72c39140d393",
   "metadata": {},
   "outputs": [
    {
     "data": {
      "text/plain": [
       "MultiIndex([(   13, 1980),\n",
       "            (   13, 1981),\n",
       "            (   13, 1982),\n",
       "            (   13, 1983),\n",
       "            (   13, 1984),\n",
       "            (   13, 1985),\n",
       "            (   13, 1986),\n",
       "            (   13, 1987),\n",
       "            (   17, 1980),\n",
       "            (   17, 1981),\n",
       "            ...\n",
       "            (12534, 1986),\n",
       "            (12534, 1987),\n",
       "            (12548, 1980),\n",
       "            (12548, 1981),\n",
       "            (12548, 1982),\n",
       "            (12548, 1983),\n",
       "            (12548, 1984),\n",
       "            (12548, 1985),\n",
       "            (12548, 1986),\n",
       "            (12548, 1987)],\n",
       "           names=['nr', 'year'], length=4360)"
      ]
     },
     "execution_count": 6,
     "metadata": {},
     "output_type": "execute_result"
    }
   ],
   "source": [
    "import pandas as pd\n",
    "from linearmodels.datasets import wage_panel\n",
    "\n",
    "data = wage_panel.load()\n",
    "year = pd.Categorical(data.year)\n",
    "data = data.set_index([\"nr\", \"year\"])\n",
    "data[\"year\"] = year\n",
    "\n",
    "\n",
    "import statsmodels.api as sm\n",
    "from linearmodels.panel import PooledOLS\n",
    "\n",
    "exog_vars = [\"black\", \"hisp\", \"exper\", \"expersq\", \"married\", \"educ\", \"union\", \"year\"]\n",
    "exog = sm.add_constant(data[exog_vars])\n",
    "mod = PooledOLS(data.lwage, exog)\n",
    "pooled_res = mod.fit()\n",
    "\n",
    "\n",
    "from linearmodels.panel import RandomEffects\n",
    "\n",
    "mod = RandomEffects(data.lwage, exog)\n",
    "re_res = mod.fit()\n",
    "\n",
    "exog.index"
   ]
  },
  {
   "cell_type": "code",
   "execution_count": null,
   "id": "529e9a69-4ccb-46db-b25b-674785d6b15b",
   "metadata": {},
   "outputs": [],
   "source": []
  }
 ],
 "metadata": {
  "kernelspec": {
   "display_name": "Python 3",
   "language": "python",
   "name": "python3"
  },
  "language_info": {
   "codemirror_mode": {
    "name": "ipython",
    "version": 3
   },
   "file_extension": ".py",
   "mimetype": "text/x-python",
   "name": "python",
   "nbconvert_exporter": "python",
   "pygments_lexer": "ipython3",
   "version": "3.8.10"
  }
 },
 "nbformat": 4,
 "nbformat_minor": 5
}
