{
 "cells": [
  {
   "cell_type": "markdown",
   "id": "dae39265",
   "metadata": {},
   "source": [
    "STIMA DEI PARAMETRI DEI MODELLI AR(1) E MA(1)"
   ]
  },
  {
   "cell_type": "markdown",
   "id": "a43c10f8",
   "metadata": {},
   "source": [
    "Definiamo due processi:"
   ]
  },
  {
   "cell_type": "markdown",
   "id": "d9c1e7a1",
   "metadata": {},
   "source": [
    "MA(1)"
   ]
  },
  {
   "cell_type": "markdown",
   "id": "6a180aa5",
   "metadata": {},
   "source": [
    "$Y_t=\\mu+\\epsilon_t+\\theta\\epsilon_{t-1}, \\epsilon_{t}\\sim i.i.d.N(0,\\sigma^2)$"
   ]
  },
  {
   "cell_type": "markdown",
   "id": "005580bc",
   "metadata": {},
   "source": [
    "AR(1)"
   ]
  },
  {
   "cell_type": "markdown",
   "id": "58ec3f80",
   "metadata": {},
   "source": [
    "$Y_t=c+\\phi Y_{t-1}+\\epsilon_{t}, \\epsilon_{t}\\sim i.i.d.N(0,\\sigma^2)$"
   ]
  },
  {
   "cell_type": "markdown",
   "id": "8e3cef90",
   "metadata": {},
   "source": [
    "con $|\\phi|<1$ (processo stazionario) e $|\\theta|<1$"
   ]
  },
  {
   "cell_type": "markdown",
   "id": "ca2e0768",
   "metadata": {},
   "source": [
    "Procediamo alla stima dei parametri con il metodo della Conditional MLE (CMLE)."
   ]
  },
  {
   "cell_type": "markdown",
   "id": "06a3db2e",
   "metadata": {},
   "source": [
    "Stima CMLE dei parametri di un processo AR(1)"
   ]
  },
  {
   "cell_type": "markdown",
   "id": "3bc22768",
   "metadata": {},
   "source": [
    "Il vettore dei parametri incogniti $\\beta=(c,\\phi,\\sigma^2)$.\n",
    "Indichiamo con $f_{Y_{1}}(y_1;\\beta)$ la pdf di $Y_t$ nell'istante $t=1$, ovvero la prima osservazione campionaria. Avremo:"
   ]
  },
  {
   "cell_type": "markdown",
   "id": "7a7c9b2a",
   "metadata": {},
   "source": [
    "$f_{Y_1;\\beta}=f_{Y_{1}}(y_1;c,\\phi,\\sigma^2)=\\frac{1}{\\sqrt{2\\pi}\\sqrt{\\frac{\\sigma^2}{(1-\\phi^2)}}}\\exp\\left\\lbrace-\\frac{1}{2}\\frac{(y_1-\\frac{c}{1-\\phi})^2}{\\frac{\\sigma^2}{(1-\\phi^2)}}\\right\\rbrace $"
   ]
  },
  {
   "cell_type": "markdown",
   "id": "591d3298",
   "metadata": {},
   "source": [
    "poiché $\\mathbb{E}(Y_1)=\\mu=\\frac{c}{1-\\phi}$ e $VaR(Y_1)=\\frac{\\sigma^2}{1-\\phi^2}$"
   ]
  },
  {
   "cell_type": "markdown",
   "id": "e3b79fe2",
   "metadata": {},
   "source": [
    "Consideriamo ora la distribuzione della seconda osservazione $Y_2=y_2$ dato che abbiamo osservato la prima $Y_1=y_1$. Dunque: $(Y_2|Y_1=y_1)\\sim N((c+\\phi y_1,\\sigma^2)$ e la relativa pdf della distribuzione condizionata:"
   ]
  },
  {
   "cell_type": "markdown",
   "id": "1e9c3deb",
   "metadata": {},
   "source": [
    "$f_{Y_3|Y_2,Y_1}(y_3|y_2,y_1;\\beta)=\\frac{1}{\\sqrt{2\\pi\\sigma^2}}\\exp\\left\\lbrace-\\frac{1}{2}\\frac{(y_3-c-\\phi y_2)^2}{\\sigma^2}\\right\\rbrace$"
   ]
  },
  {
   "cell_type": "markdown",
   "id": "3f80ccb9",
   "metadata": {},
   "source": [
    "da cui:"
   ]
  },
  {
   "cell_type": "markdown",
   "id": "eda20b28",
   "metadata": {},
   "source": [
    "$f_{Y_3,Y_2,Y_1;\\beta}=f_{Y_3|Y_2,Y_1}(y_3|y_2,y_1;\\beta)\\cdot f_{Y_2,Y_1}(y_2,y_1;\\beta)=f_{Y_3|Y_2,Y_1}(y_3|y_2,y_1;\\beta)\\cdot f_{Y_2|Y_1}(y_2|y_1;\\beta)\\cdot f_{Y_1}(y_1;\\beta).$"
   ]
  },
  {
   "cell_type": "markdown",
   "id": "4a06d8ea",
   "metadata": {},
   "source": [
    "\n",
    "Possiamo dunque estendere questo discorso all'intero campione considerando che ciascuna densità in t dipende esclusivamente dal valore precedente, ovvero:"
   ]
  },
  {
   "cell_type": "markdown",
   "id": "dc5f2681",
   "metadata": {},
   "source": [
    "$f_{Y_t|Y_{t-1},Y_{t-2},...,Y_1}(y_T,y_{T-1},...,y_1;\\beta)=f_{Y_t|Y_{t-1}}(y_t|y_{t-1};\\beta)=\\frac{1}{\\sqrt{2\\pi\\sigma^2}}\\exp\\left\\lbrace-\\frac{1}{2}\\frac{(y_t-c-\\phi y_{t-1})^2}{\\sigma^2}\\right\\rbrace$"
   ]
  },
  {
   "cell_type": "markdown",
   "id": "1df10927",
   "metadata": {},
   "source": [
    "Possiamo dunque calcolare la likelihood del campione completo come:"
   ]
  },
  {
   "cell_type": "markdown",
   "id": "7f4295e7",
   "metadata": {},
   "source": [
    "$f_{Y_t|Y_{t-1},Y_{t-2},...,Y_1}(y_T,y_{T-1},...,y_1;\\beta)=f_{Y_1}(y_1,\\beta)\\cdot\\prod_{t=2}^{T}f_{Y_t|Y_{t-1}}(y_t|y_{t-1};\\beta)$"
   ]
  },
  {
   "cell_type": "markdown",
   "id": "5e126476",
   "metadata": {},
   "source": [
    "Scriviamo la log-likelihood per un campione di dimensione T per un processo AR(1) normale come:"
   ]
  },
  {
   "cell_type": "markdown",
   "id": "fcef1181",
   "metadata": {},
   "source": [
    "$\\mathcal{L}(\\beta)=-\\frac{1}{2}\\log(2\\pi)-\\frac{1}{2}\\log\\frac{\\sigma^2}{(1-\\phi^2)}-\\frac{(y_1-\\frac{c}{1-\\phi})^2}{\\frac{2\\sigma^2}{(1-\\phi^2)}}-\\frac{T-1}{2}\\log(2\\pi)-\\frac{T-1}{2}\\log(\\sigma^2)-\\sum_{t=2}^{T}\\frac{(y_t-c-\\phi y_{t-1})^2}{2\\sigma^2}$"
   ]
  },
  {
   "cell_type": "markdown",
   "id": "b9582b13",
   "metadata": {},
   "source": [
    "Stima CMLE dei parametri di un processo MA(1)"
   ]
  },
  {
   "cell_type": "markdown",
   "id": "3b9b8c26",
   "metadata": {},
   "source": [
    "Qui il vettore dei parametri da stimare è $\\xi=(\\mu,\\theta,\\sigma^2)$."
   ]
  },
  {
   "cell_type": "markdown",
   "id": "d25ad9c2",
   "metadata": {},
   "source": [
    "Analogamente, scrivo la pdf relativa alla prima osservazione $Y_1$: $\\epsilon_t$ è Gaussiano, dunque anche $Y_t$ è Gaussiano. Per $t=1$ avremo $Y_1\\sim N(\\mu,(1+\\theta^2)\\sigma^2)$.\n",
    "Dunque:"
   ]
  },
  {
   "cell_type": "markdown",
   "id": "b4a11913",
   "metadata": {},
   "source": [
    "$f_{Y_1}(y_1;\\xi)=f_{Y_1}(y_1;\\mu,\\theta,\\sigma^2)=\\frac{1}{\\sqrt{2\\pi}\\sqrt{\\sigma^2(1+\\theta^2)}}\\exp\\left\\lbrace-\\frac{1}{2}\\frac{(y_1-\\mu)^2}{\\sigma^2(1+\\theta^2)}\\right\\rbrace $"
   ]
  },
  {
   "cell_type": "markdown",
   "id": "d22d8b19",
   "metadata": {},
   "source": [
    "Poiché $\\mathbb{E}(Y_1)=\\mu$ e $Var(Y_1)=\\sigma^2\\theta^2$"
   ]
  },
  {
   "cell_type": "markdown",
   "id": "873fd1a7",
   "metadata": {},
   "source": [
    "Come prima, studiamo la distribuzione della seconda osservazione $Y_2$ avendo osservato la prima $Y_1=y_1$:"
   ]
  },
  {
   "cell_type": "markdown",
   "id": "4bf3b128",
   "metadata": {},
   "source": [
    "$Y_2=\\mu+\\epsilon_2+\\theta\\epsilon_1$"
   ]
  },
  {
   "cell_type": "markdown",
   "id": "4c0d1744",
   "metadata": {},
   "source": [
    "N.B. per procedere, è necessario assumere che $\\epsilon_0=0$ q.c."
   ]
  },
  {
   "cell_type": "markdown",
   "id": "08c6b3d8",
   "metadata": {},
   "source": [
    "In questo modo possiamo scrivere: $(Y_1|\\epsilon_0=0)\\sim N(\\mu,\\sigma^2)$ e quindi:"
   ]
  },
  {
   "cell_type": "markdown",
   "id": "d356ad56",
   "metadata": {},
   "source": [
    "$f_{Y_1|\\epsilon_0=0}(y_1|\\epsilon_0=0;\\xi)=\\frac{1}{\\sqrt{2\\pi\\sigma^2}}\\exp\\left\\lbrace-\\frac{1}{2}\\frac{(y_1-\\mu)^2}{2\\sigma^2}\\right\\rbrace=\\frac{1}{\\sqrt{2\\pi\\sigma^2}}\\exp\\left\\lbrace-\\frac{\\epsilon^2}{2\\sigma^2}\\right\\rbrace$"
   ]
  },
  {
   "cell_type": "markdown",
   "id": "9c6ac831",
   "metadata": {},
   "source": [
    "Inoltre, data l'osservazione $y_1$, il valore $\\epsilon_1$ diventa noto e pari a: $\\epsilon_1=y_1-\\mu.$"
   ]
  },
  {
   "cell_type": "markdown",
   "id": "3772a85d",
   "metadata": {},
   "source": [
    "E allora: $(Y_2|Y_1=y_1,\\epsilon_0=0)\\sim N((\\mu+\\theta\\epsilon_1),\\sigma^2)$"
   ]
  },
  {
   "cell_type": "markdown",
   "id": "fa6007ac",
   "metadata": {},
   "source": [
    "Possiamo scrivere ora la pdf di $Y_2$ condizionatamente a $Y_1$ come:"
   ]
  },
  {
   "cell_type": "markdown",
   "id": "d562a5db",
   "metadata": {},
   "source": [
    "$\\begin{equation}f_{Y_2|Y_1,\\epsilon_0=0}(y_2|y_1,\\epsilon_0=0;\\theta)=\\frac{1}{\\sqrt{2\\pi\\sigma^2}}\\exp\\left\\lbrace-\\frac{1}{2}\\frac{(y_2-\\mu-\\theta\\epsilon_1)^2}{2\\sigma^2}\\right\\rbrace=\\frac{1}{\\sqrt{2\\pi\\sigma^2}}\\exp\\left\\lbrace-\\frac{\\epsilon_2^2}{2\\sigma^2}\\right\\rbrace\\end{equation}$"
   ]
  },
  {
   "cell_type": "markdown",
   "id": "615924d4",
   "metadata": {},
   "source": [
    "e nuovamente $\\epsilon_2$ è noto e pari a $\\epsilon_2=y_2-\\mu-\\theta\\epsilon_1$. Procedendo iterativamente arriviamo a definire ciascun  come:"
   ]
  },
  {
   "cell_type": "markdown",
   "id": "50625d1d",
   "metadata": {},
   "source": [
    "$\\epsilon_t=y_t-\\mu-\\theta\\epsilon_{t-1}$"
   ]
  },
  {
   "cell_type": "markdown",
   "id": "bf0a659d",
   "metadata": {},
   "source": [
    "con $t=1,...,T$ avendo assunto $\\epsilon_0=0$."
   ]
  },
  {
   "cell_type": "markdown",
   "id": "ff89f024",
   "metadata": {},
   "source": [
    "Scriveremo la conditional density come:"
   ]
  },
  {
   "cell_type": "markdown",
   "id": "c52ae557",
   "metadata": {},
   "source": [
    "$f_{Y_t|Y_{t-1},Y_{t-2},...,Y_{1},\\epsilon_0=0}(y_t|y_{t-1},y_{t-2},...,y_{1},\\epsilon_0=0;\\theta)=f_{Y_t|\\epsilon_{t-1}}(y_t|\\epsilon_{t-1};\\theta)=\\frac{1}{\\sqrt{2\\pi\\sigma^2}}\\exp\\left\\lbrace-\\frac{\\epsilon_t^2}{2\\sigma^2}\\right\\rbrace$"
   ]
  },
  {
   "cell_type": "markdown",
   "id": "7236546f",
   "metadata": {},
   "source": [
    "Possiamo dunque scrivere la likelihood per il campiona completo come prodotto delle densità individuali, ovvero:\n"
   ]
  },
  {
   "cell_type": "markdown",
   "id": "8c91ca10",
   "metadata": {},
   "source": [
    "$f_{Y_T, Y_{T-1}, Y_{T-2}, \\dots, Y_1| \\varepsilon_0=0}(y_T, y_{T-1}, y_{T-2}, \\dots, y_1| \\varepsilon_0=0; \\theta)=$"
   ]
  },
  {
   "cell_type": "markdown",
   "id": "5e7c7d48",
   "metadata": {},
   "source": [
    "$= f_{Y_1|\\varepsilon_0=0} (y_1| \\varepsilon_0=0;\\theta) \\cdot \\prod_{t=2}^T f_{Y_t| Y_{t-1}, Y_{t-2}, \\dots , Y_1 , \\varepsilon_0 = 0} ( y_t | y_{t-1}, y_{t-2}, \\dots , y_1, \\varepsilon_0=0;\\theta)$"
   ]
  },
  {
   "cell_type": "markdown",
   "id": "9450afac",
   "metadata": {},
   "source": [
    "e conseguentemente la log-likelihood come:"
   ]
  },
  {
   "cell_type": "markdown",
   "id": "cf2955ce",
   "metadata": {},
   "source": [
    "$\\mathcal{L}(\\theta) = - \\frac{T}{2}\\log(2\\pi) - \\frac{T}{2} \\log(\\sigma^2) - \\sum_{t=1}^T \\frac{\\varepsilon_t^2}{2\\sigma^2}.$"
   ]
  },
  {
   "cell_type": "markdown",
   "id": "3964cdee",
   "metadata": {},
   "source": [
    "Ora, occorre definire la struttura di $\\epsilon_t$. Sappiamo che:"
   ]
  },
  {
   "cell_type": "markdown",
   "id": "31bb20d6",
   "metadata": {},
   "source": [
    "$(Y_t - \\mu) = (1+ \\theta L) \\varepsilon_t $"
   ]
  },
  {
   "cell_type": "markdown",
   "id": "01c11d6f",
   "metadata": {},
   "source": [
    "e quindi:"
   ]
  },
  {
   "cell_type": "markdown",
   "id": "01349d16",
   "metadata": {},
   "source": [
    "$ \\varepsilon_t = (1+ \\theta L)^{-1} (Y_t-\\mu) $"
   ]
  },
  {
   "cell_type": "markdown",
   "id": "b32250f6",
   "metadata": {},
   "source": [
    "$= (Y_t-\\mu)-\\theta (Y_{t-1} - \\mu) + \\theta^2 (Y_{t-2}-\\mu)  - \\dots + (-1)^{t-1} \\theta^{t-1} (Y_1-\\mu) + (-1)^t \\theta^t \\varepsilon_0. $"
   ]
  },
  {
   "cell_type": "markdown",
   "id": "19a07206",
   "metadata": {},
   "source": [
    "GDP:"
   ]
  },
  {
   "cell_type": "markdown",
   "id": "78191c5e",
   "metadata": {},
   "source": [
    "Il file GDP.csv contiene la serie storica del GDP USA dal 2000 ad oggi in trimestri, fonte FRED. \n",
    "Definire un modello MA(1) e un AR(1) e stimare i relativi parametri sul tasso di crescita del GDP. "
   ]
  },
  {
   "cell_type": "markdown",
   "id": "b42206c6",
   "metadata": {},
   "source": [
    "Procedimento:"
   ]
  },
  {
   "cell_type": "markdown",
   "id": "ea64ae34",
   "metadata": {},
   "source": [
    "1. Importo i dati quarterly del GDP degli ultimi 20 anni.\n",
    "2. Calcolo il GDP growth come: $\\Delta GDP_t=\\log(GDP_t)-\\log(GDP_{t-1})$.\n",
    "3. Inizializzo un vettore contente i tre parametri (in questo caso uguale per      entrambi i modelli).\n",
    "4. Scrivo le due functions relative alle due conditional likelihood su Python.\n",
    "5. Utilizzo Maxlik."
   ]
  },
  {
   "cell_type": "markdown",
   "id": "999e8c36",
   "metadata": {},
   "source": [
    "SIMULAZIONE"
   ]
  },
  {
   "cell_type": "markdown",
   "id": "aff12e1d",
   "metadata": {},
   "source": [
    "Siano $x_1$ e $x_2$ due serie storiche simulate composte da $T=1000$ realizzazioni da un processo $MA(1)$ e un processo $AR(1)$, rispettivamente, con parametri $\\pi=\\phi=0,7$ e $\\sigma^2=0,1$. Stimare tramite il metodo della massima verosimiglianza condizionata i parametri delle realizzazioni dei due processi."
   ]
  },
  {
   "cell_type": "markdown",
   "id": "9408a714",
   "metadata": {},
   "source": [
    "Step 1: generazione random\n",
    "Utilizzando le built-in function di MATLAB creiamo delle SS da un processo AR(1) e da un MA(1)."
   ]
  },
  {
   "cell_type": "code",
   "execution_count": null,
   "id": "88698554",
   "metadata": {},
   "outputs": [],
   "source": [
    "import pandas as pd\n",
    "import numpy as np"
   ]
  },
  {
   "cell_type": "code",
   "execution_count": null,
   "id": "506f2f3f",
   "metadata": {},
   "outputs": [],
   "source": [
    "data: pd.DataFrame = pd.read_csv(\"C:/Users/Daniele Mancinelli/Desktop/Python_Financial_Econometrics/GDP.csv\", index_col=\"DATE\")\n",
    "data.head()"
   ]
  },
  {
   "cell_type": "code",
   "execution_count": null,
   "id": "72194248",
   "metadata": {},
   "outputs": [],
   "source": [
    "log_gdp: pd.DataFrame = np.log(data).diff().dropna()\n",
    "log_gdp.head()"
   ]
  },
  {
   "cell_type": "code",
   "execution_count": null,
   "id": "ee1b8d94",
   "metadata": {},
   "outputs": [],
   "source": [
    "log_gdp = log_gdp.to_numpy()\n",
    "beta0 = np.array([0, 0.8, 0.1])"
   ]
  },
  {
   "cell_type": "code",
   "execution_count": null,
   "id": "55a3df44",
   "metadata": {},
   "outputs": [],
   "source": [
    "def AR_1_log_like(beta0, data):\n",
    "    T = data.shape[0]\n",
    "    c = beta0[0]\n",
    "    phi = beta0[1]\n",
    "    sig2 = beta0[2]\n",
    "    err = np.zeros((T,1))\n",
    "    err[0] = data[0]-c\n",
    "    for i in range(1,len(data)):\n",
    "        err[i]=data[i]-c-phi*data[i-1]\n",
    "    lik = np.zeros((T,1))\n",
    "    for i in range(0,len(data)):\n",
    "        lik[i] = -(1/2)*np.log(2*np.pi*sig2)-(err[i]**2)/(2*sig2)\n",
    "    return lik"
   ]
  },
  {
   "cell_type": "code",
   "execution_count": null,
   "id": "99e9df6f",
   "metadata": {},
   "outputs": [],
   "source": [
    "def MA_1_log_like(beta0, data):\n",
    "    T = data.shape[0]\n",
    "    c = beta0[0]\n",
    "    psi = beta0[1]\n",
    "    sig2 = beta0[2]\n",
    "    err = np.zeros((T,1))\n",
    "    err[0] = data[0]-c\n",
    "    for i in range(1,len(data)):\n",
    "        err[i] = data[i]-c-psi*err[i-1]\n",
    "    lik = np.zeros((T,1))\n",
    "    for i in range(0,len(data)):\n",
    "        lik[i] = -(1/2)*np.log(2*np.pi*sig2)-(err[i]**2)/2*sig2\n",
    "    return lik"
   ]
  },
  {
   "cell_type": "code",
   "execution_count": null,
   "id": "c4b235c4",
   "metadata": {},
   "outputs": [],
   "source": [
    "# UTILIZZARE MAX LIK PER STIMARE I PARAMETRI \n",
    "# UPPER BOUND E LOWER BOUND IDENTICI PER LA STIMA DEI PARAMETRI\n",
    "# (-9999,9999)\n",
    "# (-0.9999,0.9999)\n",
    "# (0.0001, 9999)"
   ]
  },
  {
   "cell_type": "code",
   "execution_count": null,
   "id": "47e7b66e",
   "metadata": {},
   "outputs": [],
   "source": []
  }
 ],
 "metadata": {
  "kernelspec": {
   "display_name": "Python 3",
   "language": "python",
   "name": "python3"
  },
  "language_info": {
   "codemirror_mode": {
    "name": "ipython",
    "version": 3
   },
   "file_extension": ".py",
   "mimetype": "text/x-python",
   "name": "python",
   "nbconvert_exporter": "python",
   "pygments_lexer": "ipython3",
   "version": "3.7.10"
  }
 },
 "nbformat": 4,
 "nbformat_minor": 5
}
