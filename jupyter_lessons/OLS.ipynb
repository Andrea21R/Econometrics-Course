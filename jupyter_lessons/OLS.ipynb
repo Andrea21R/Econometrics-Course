{
 "cells": [
  {
   "cell_type": "code",
   "execution_count": 1,
   "id": "098f9284",
   "metadata": {},
   "outputs": [],
   "source": [
    "import pandas as pd\n",
    "import xlrd\n",
    "import openpyxl\n",
    "import numpy as np"
   ]
  },
  {
   "cell_type": "markdown",
   "id": "6c89c1c6",
   "metadata": {},
   "source": [
    "IMPORT DATA"
   ]
  },
  {
   "cell_type": "code",
   "execution_count": 2,
   "id": "adeb2d68",
   "metadata": {},
   "outputs": [],
   "source": [
    "# index_col setta una colonna come index di pd.DataFrame\n",
    "data: pd.DataFrame = pd.read_excel(\"C:/Users/andre/Desktop/Asset.xlsx\", index_col=\"datetime\")"
   ]
  },
  {
   "cell_type": "markdown",
   "id": "21bb76ca",
   "metadata": {},
   "source": [
    "CALC RETURNS"
   ]
  },
  {
   "cell_type": "code",
   "execution_count": 3,
   "id": "82ad2c89",
   "metadata": {},
   "outputs": [
    {
     "data": {
      "text/html": [
       "<div>\n",
       "<style scoped>\n",
       "    .dataframe tbody tr th:only-of-type {\n",
       "        vertical-align: middle;\n",
       "    }\n",
       "\n",
       "    .dataframe tbody tr th {\n",
       "        vertical-align: top;\n",
       "    }\n",
       "\n",
       "    .dataframe thead th {\n",
       "        text-align: right;\n",
       "    }\n",
       "</style>\n",
       "<table border=\"1\" class=\"dataframe\">\n",
       "  <thead>\n",
       "    <tr style=\"text-align: right;\">\n",
       "      <th></th>\n",
       "      <th>AAPL</th>\n",
       "      <th>ABI</th>\n",
       "      <th>W5000</th>\n",
       "      <th>SP500</th>\n",
       "      <th>EUR_USD</th>\n",
       "      <th>USD_YEN</th>\n",
       "    </tr>\n",
       "    <tr>\n",
       "      <th>datetime</th>\n",
       "      <th></th>\n",
       "      <th></th>\n",
       "      <th></th>\n",
       "      <th></th>\n",
       "      <th></th>\n",
       "      <th></th>\n",
       "    </tr>\n",
       "  </thead>\n",
       "  <tbody>\n",
       "    <tr>\n",
       "      <th>2009-01-05</th>\n",
       "      <td>0.041338</td>\n",
       "      <td>0.098272</td>\n",
       "      <td>-0.022958</td>\n",
       "      <td>-0.004679</td>\n",
       "      <td>0.001071</td>\n",
       "      <td>0.000738</td>\n",
       "    </tr>\n",
       "    <tr>\n",
       "      <th>2009-01-06</th>\n",
       "      <td>-0.016632</td>\n",
       "      <td>-0.017332</td>\n",
       "      <td>-0.024068</td>\n",
       "      <td>0.007787</td>\n",
       "      <td>-0.001357</td>\n",
       "      <td>0.001685</td>\n",
       "    </tr>\n",
       "    <tr>\n",
       "      <th>2009-01-07</th>\n",
       "      <td>-0.021845</td>\n",
       "      <td>-0.006007</td>\n",
       "      <td>0.003633</td>\n",
       "      <td>-0.030469</td>\n",
       "      <td>-0.011139</td>\n",
       "      <td>0.003467</td>\n",
       "    </tr>\n",
       "    <tr>\n",
       "      <th>2009-01-08</th>\n",
       "      <td>0.018399</td>\n",
       "      <td>0.039262</td>\n",
       "      <td>-0.035037</td>\n",
       "      <td>0.003391</td>\n",
       "      <td>0.007129</td>\n",
       "      <td>0.016641</td>\n",
       "    </tr>\n",
       "    <tr>\n",
       "      <th>2009-01-09</th>\n",
       "      <td>-0.023135</td>\n",
       "      <td>-0.010968</td>\n",
       "      <td>0.004174</td>\n",
       "      <td>-0.021533</td>\n",
       "      <td>0.015662</td>\n",
       "      <td>-0.016641</td>\n",
       "    </tr>\n",
       "  </tbody>\n",
       "</table>\n",
       "</div>"
      ],
      "text/plain": [
       "                AAPL       ABI     W5000     SP500   EUR_USD   USD_YEN\n",
       "datetime                                                              \n",
       "2009-01-05  0.041338  0.098272 -0.022958 -0.004679  0.001071  0.000738\n",
       "2009-01-06 -0.016632 -0.017332 -0.024068  0.007787 -0.001357  0.001685\n",
       "2009-01-07 -0.021845 -0.006007  0.003633 -0.030469 -0.011139  0.003467\n",
       "2009-01-08  0.018399  0.039262 -0.035037  0.003391  0.007129  0.016641\n",
       "2009-01-09 -0.023135 -0.010968  0.004174 -0.021533  0.015662 -0.016641"
      ]
     },
     "execution_count": 3,
     "metadata": {},
     "output_type": "execute_result"
    }
   ],
   "source": [
    "rf = 0.0001\n",
    "# applica log a data e dopo fa la differenza prima con diff(); dropna() elimina i NaN dal DataFrame\n",
    "# provare a stampare log_ret con e senza .dropna()\n",
    "log_ret: pd.DataFrame = np.log(data).diff().dropna()\n",
    "log_ret.head()"
   ]
  },
  {
   "cell_type": "code",
   "execution_count": 4,
   "id": "8dcd3d0b",
   "metadata": {},
   "outputs": [
    {
     "data": {
      "text/html": [
       "<div>\n",
       "<style scoped>\n",
       "    .dataframe tbody tr th:only-of-type {\n",
       "        vertical-align: middle;\n",
       "    }\n",
       "\n",
       "    .dataframe tbody tr th {\n",
       "        vertical-align: top;\n",
       "    }\n",
       "\n",
       "    .dataframe thead th {\n",
       "        text-align: right;\n",
       "    }\n",
       "</style>\n",
       "<table border=\"1\" class=\"dataframe\">\n",
       "  <thead>\n",
       "    <tr style=\"text-align: right;\">\n",
       "      <th></th>\n",
       "      <th>AAPL</th>\n",
       "      <th>ABI</th>\n",
       "      <th>W5000</th>\n",
       "      <th>SP500</th>\n",
       "      <th>EUR_USD</th>\n",
       "      <th>USD_YEN</th>\n",
       "    </tr>\n",
       "  </thead>\n",
       "  <tbody>\n",
       "    <tr>\n",
       "      <th>count</th>\n",
       "      <td>2767.0000</td>\n",
       "      <td>2767.0000</td>\n",
       "      <td>2767.0000</td>\n",
       "      <td>2767.0000</td>\n",
       "      <td>2767.0000</td>\n",
       "      <td>2767.0000</td>\n",
       "    </tr>\n",
       "    <tr>\n",
       "      <th>mean</th>\n",
       "      <td>0.0011</td>\n",
       "      <td>0.0004</td>\n",
       "      <td>0.0005</td>\n",
       "      <td>0.0004</td>\n",
       "      <td>-0.0001</td>\n",
       "      <td>0.0000</td>\n",
       "    </tr>\n",
       "    <tr>\n",
       "      <th>std</th>\n",
       "      <td>0.0167</td>\n",
       "      <td>0.0153</td>\n",
       "      <td>0.0105</td>\n",
       "      <td>0.0103</td>\n",
       "      <td>0.0056</td>\n",
       "      <td>0.0058</td>\n",
       "    </tr>\n",
       "    <tr>\n",
       "      <th>min</th>\n",
       "      <td>-0.1319</td>\n",
       "      <td>-0.1196</td>\n",
       "      <td>-0.0733</td>\n",
       "      <td>-0.0690</td>\n",
       "      <td>-0.0265</td>\n",
       "      <td>-0.0375</td>\n",
       "    </tr>\n",
       "    <tr>\n",
       "      <th>25%</th>\n",
       "      <td>-0.0070</td>\n",
       "      <td>-0.0077</td>\n",
       "      <td>-0.0037</td>\n",
       "      <td>-0.0035</td>\n",
       "      <td>-0.0033</td>\n",
       "      <td>-0.0030</td>\n",
       "    </tr>\n",
       "    <tr>\n",
       "      <th>50%</th>\n",
       "      <td>0.0010</td>\n",
       "      <td>0.0003</td>\n",
       "      <td>0.0006</td>\n",
       "      <td>0.0007</td>\n",
       "      <td>0.0000</td>\n",
       "      <td>0.0000</td>\n",
       "    </tr>\n",
       "    <tr>\n",
       "      <th>75%</th>\n",
       "      <td>0.0102</td>\n",
       "      <td>0.0087</td>\n",
       "      <td>0.0055</td>\n",
       "      <td>0.0053</td>\n",
       "      <td>0.0030</td>\n",
       "      <td>0.0031</td>\n",
       "    </tr>\n",
       "    <tr>\n",
       "      <th>max</th>\n",
       "      <td>0.0850</td>\n",
       "      <td>0.0983</td>\n",
       "      <td>0.0677</td>\n",
       "      <td>0.0684</td>\n",
       "      <td>0.0302</td>\n",
       "      <td>0.0346</td>\n",
       "    </tr>\n",
       "  </tbody>\n",
       "</table>\n",
       "</div>"
      ],
      "text/plain": [
       "            AAPL        ABI      W5000      SP500    EUR_USD    USD_YEN\n",
       "count  2767.0000  2767.0000  2767.0000  2767.0000  2767.0000  2767.0000\n",
       "mean      0.0011     0.0004     0.0005     0.0004    -0.0001     0.0000\n",
       "std       0.0167     0.0153     0.0105     0.0103     0.0056     0.0058\n",
       "min      -0.1319    -0.1196    -0.0733    -0.0690    -0.0265    -0.0375\n",
       "25%      -0.0070    -0.0077    -0.0037    -0.0035    -0.0033    -0.0030\n",
       "50%       0.0010     0.0003     0.0006     0.0007     0.0000     0.0000\n",
       "75%       0.0102     0.0087     0.0055     0.0053     0.0030     0.0031\n",
       "max       0.0850     0.0983     0.0677     0.0684     0.0302     0.0346"
      ]
     },
     "execution_count": 4,
     "metadata": {},
     "output_type": "execute_result"
    }
   ],
   "source": [
    "log_ret.describe().round(4)"
   ]
  },
  {
   "cell_type": "markdown",
   "id": "a731d75c",
   "metadata": {},
   "source": [
    "DEFINE INPUT FOR REGRESSION"
   ]
  },
  {
   "cell_type": "code",
   "execution_count": 5,
   "id": "6ef4b506",
   "metadata": {},
   "outputs": [],
   "source": [
    "Y: pd.DataFrame = log_ret.loc[:, [\"AAPL\"]] - rf # usare [] quando si selezionano le colonne per ottenere un pd.DataFrame \n",
    "X: pd.DataFrame = log_ret.loc[:, [\"SP500\", \"EUR_USD\", \"USD_YEN\"]]  # seleziona mkt factor e tasso cambio\n",
    "\n",
    "X.loc[:, \"SP500\"] = X.loc[:, \"SP500\"] - rf  # sostituisce mkt factor con mkt factor - risk_free\n",
    "# ALTERNATIVA: X.loc[\"SP500\"] -= rf\n",
    "X['constant'] = 1  # aggiunge una colonna di 1 IN ULTIMA POSIZIONE\n",
    "\n",
    "X: pd.DataFrame = X.loc[:, [\"constant\", \"SP500\", \"EUR_USD\", \"USD_YEN\"]]  # ri-definisco X come X che segue un'ordinamento delle colonne specifico"
   ]
  },
  {
   "cell_type": "code",
   "execution_count": 6,
   "id": "beb4b36c",
   "metadata": {},
   "outputs": [
    {
     "data": {
      "text/html": [
       "<div>\n",
       "<style scoped>\n",
       "    .dataframe tbody tr th:only-of-type {\n",
       "        vertical-align: middle;\n",
       "    }\n",
       "\n",
       "    .dataframe tbody tr th {\n",
       "        vertical-align: top;\n",
       "    }\n",
       "\n",
       "    .dataframe thead th {\n",
       "        text-align: right;\n",
       "    }\n",
       "</style>\n",
       "<table border=\"1\" class=\"dataframe\">\n",
       "  <thead>\n",
       "    <tr style=\"text-align: right;\">\n",
       "      <th></th>\n",
       "      <th>AAPL</th>\n",
       "    </tr>\n",
       "    <tr>\n",
       "      <th>datetime</th>\n",
       "      <th></th>\n",
       "    </tr>\n",
       "  </thead>\n",
       "  <tbody>\n",
       "    <tr>\n",
       "      <th>2009-01-05</th>\n",
       "      <td>0.041238</td>\n",
       "    </tr>\n",
       "    <tr>\n",
       "      <th>2009-01-06</th>\n",
       "      <td>-0.016732</td>\n",
       "    </tr>\n",
       "    <tr>\n",
       "      <th>2009-01-07</th>\n",
       "      <td>-0.021945</td>\n",
       "    </tr>\n",
       "    <tr>\n",
       "      <th>2009-01-08</th>\n",
       "      <td>0.018299</td>\n",
       "    </tr>\n",
       "    <tr>\n",
       "      <th>2009-01-09</th>\n",
       "      <td>-0.023235</td>\n",
       "    </tr>\n",
       "  </tbody>\n",
       "</table>\n",
       "</div>"
      ],
      "text/plain": [
       "                AAPL\n",
       "datetime            \n",
       "2009-01-05  0.041238\n",
       "2009-01-06 -0.016732\n",
       "2009-01-07 -0.021945\n",
       "2009-01-08  0.018299\n",
       "2009-01-09 -0.023235"
      ]
     },
     "execution_count": 6,
     "metadata": {},
     "output_type": "execute_result"
    }
   ],
   "source": [
    "Y.head()"
   ]
  },
  {
   "cell_type": "code",
   "execution_count": 7,
   "id": "92f00a86",
   "metadata": {},
   "outputs": [
    {
     "data": {
      "text/html": [
       "<div>\n",
       "<style scoped>\n",
       "    .dataframe tbody tr th:only-of-type {\n",
       "        vertical-align: middle;\n",
       "    }\n",
       "\n",
       "    .dataframe tbody tr th {\n",
       "        vertical-align: top;\n",
       "    }\n",
       "\n",
       "    .dataframe thead th {\n",
       "        text-align: right;\n",
       "    }\n",
       "</style>\n",
       "<table border=\"1\" class=\"dataframe\">\n",
       "  <thead>\n",
       "    <tr style=\"text-align: right;\">\n",
       "      <th></th>\n",
       "      <th>constant</th>\n",
       "      <th>SP500</th>\n",
       "      <th>EUR_USD</th>\n",
       "      <th>USD_YEN</th>\n",
       "    </tr>\n",
       "    <tr>\n",
       "      <th>datetime</th>\n",
       "      <th></th>\n",
       "      <th></th>\n",
       "      <th></th>\n",
       "      <th></th>\n",
       "    </tr>\n",
       "  </thead>\n",
       "  <tbody>\n",
       "    <tr>\n",
       "      <th>2009-01-05</th>\n",
       "      <td>1</td>\n",
       "      <td>-0.004779</td>\n",
       "      <td>0.001071</td>\n",
       "      <td>0.000738</td>\n",
       "    </tr>\n",
       "    <tr>\n",
       "      <th>2009-01-06</th>\n",
       "      <td>1</td>\n",
       "      <td>0.007687</td>\n",
       "      <td>-0.001357</td>\n",
       "      <td>0.001685</td>\n",
       "    </tr>\n",
       "    <tr>\n",
       "      <th>2009-01-07</th>\n",
       "      <td>1</td>\n",
       "      <td>-0.030569</td>\n",
       "      <td>-0.011139</td>\n",
       "      <td>0.003467</td>\n",
       "    </tr>\n",
       "    <tr>\n",
       "      <th>2009-01-08</th>\n",
       "      <td>1</td>\n",
       "      <td>0.003291</td>\n",
       "      <td>0.007129</td>\n",
       "      <td>0.016641</td>\n",
       "    </tr>\n",
       "    <tr>\n",
       "      <th>2009-01-09</th>\n",
       "      <td>1</td>\n",
       "      <td>-0.021633</td>\n",
       "      <td>0.015662</td>\n",
       "      <td>-0.016641</td>\n",
       "    </tr>\n",
       "  </tbody>\n",
       "</table>\n",
       "</div>"
      ],
      "text/plain": [
       "            constant     SP500   EUR_USD   USD_YEN\n",
       "datetime                                          \n",
       "2009-01-05         1 -0.004779  0.001071  0.000738\n",
       "2009-01-06         1  0.007687 -0.001357  0.001685\n",
       "2009-01-07         1 -0.030569 -0.011139  0.003467\n",
       "2009-01-08         1  0.003291  0.007129  0.016641\n",
       "2009-01-09         1 -0.021633  0.015662 -0.016641"
      ]
     },
     "execution_count": 7,
     "metadata": {},
     "output_type": "execute_result"
    }
   ],
   "source": [
    "X.head()"
   ]
  },
  {
   "cell_type": "markdown",
   "id": "4cc110e6",
   "metadata": {},
   "source": [
    "CALC REGRESSION'S COEFFICIENTS"
   ]
  },
  {
   "cell_type": "code",
   "execution_count": 8,
   "id": "9aeb218e",
   "metadata": {},
   "outputs": [
    {
     "data": {
      "text/html": [
       "<div>\n",
       "<style scoped>\n",
       "    .dataframe tbody tr th:only-of-type {\n",
       "        vertical-align: middle;\n",
       "    }\n",
       "\n",
       "    .dataframe tbody tr th {\n",
       "        vertical-align: top;\n",
       "    }\n",
       "\n",
       "    .dataframe thead th {\n",
       "        text-align: right;\n",
       "    }\n",
       "</style>\n",
       "<table border=\"1\" class=\"dataframe\">\n",
       "  <thead>\n",
       "    <tr style=\"text-align: right;\">\n",
       "      <th></th>\n",
       "      <th>AAPL</th>\n",
       "    </tr>\n",
       "  </thead>\n",
       "  <tbody>\n",
       "    <tr>\n",
       "      <th>constant</th>\n",
       "      <td>0.000680</td>\n",
       "    </tr>\n",
       "    <tr>\n",
       "      <th>SP500</th>\n",
       "      <td>0.994181</td>\n",
       "    </tr>\n",
       "    <tr>\n",
       "      <th>EUR_USD</th>\n",
       "      <td>0.029182</td>\n",
       "    </tr>\n",
       "    <tr>\n",
       "      <th>USD_YEN</th>\n",
       "      <td>0.055324</td>\n",
       "    </tr>\n",
       "  </tbody>\n",
       "</table>\n",
       "</div>"
      ],
      "text/plain": [
       "              AAPL\n",
       "constant  0.000680\n",
       "SP500     0.994181\n",
       "EUR_USD   0.029182\n",
       "USD_YEN   0.055324"
      ]
     },
     "execution_count": 8,
     "metadata": {},
     "output_type": "execute_result"
    }
   ],
   "source": [
    "coeffs: pd.DataFrame = np.linalg.inv(X.transpose() @ X) @ X.transpose() @ Y\n",
    "coeffs.index = X.columns  # oltre al matching tra (rows, columns) matriciale; deve matchare anche il nome delle righe con quello delle colonne\n",
    "coeffs"
   ]
  },
  {
   "cell_type": "code",
   "execution_count": 57,
   "id": "249c5f81",
   "metadata": {},
   "outputs": [],
   "source": [
    "Y_hat: pd.DataFrame = X @ coeffs"
   ]
  },
  {
   "cell_type": "code",
   "execution_count": 59,
   "id": "be91beaa-9cf2-4b25-8e42-0a6ae3cc9baf",
   "metadata": {},
   "outputs": [
    {
     "data": {
      "image/png": "[encoded data removed]",
      "text/plain": [
       "<Figure size 432x288 with 1 Axes>"
      ]
     },
     "metadata": {
      "needs_background": "light"
     },
     "output_type": "display_data"
    }
   ],
   "source": [
    "import matplotlib.pyplot as plt  # super estetica, utilizzare libreria seaborn\n",
    "# to show figure inline (into notebook)\n",
    "%matplotlib inline\n",
    "\n",
    "# PLOT - https://matplotlib.org/stable/api/_as_gen/matplotlib.pyplot.plot.html\n",
    "plt.figure()\n",
    "plt.scatter(x=Y, y=Y_hat, alpha=0.5, edgecolor='cyan')\n",
    "plt.plot()\n",
    "plt.xlabel(\"AAPL\")\n",
    "plt.ylabel(\"AAPL_fitted\")\n",
    "plt.grid(linestyle='dashed')\n",
    "plt.title(\"AAPL_stimato VS AAPL\", fontweight='bold')\n",
    "plt.show()"
   ]
  },
  {
   "cell_type": "code",
   "execution_count": 64,
   "id": "ba0d25af-435d-4e1a-9eff-e6a29ee5d68e",
   "metadata": {},
   "outputs": [],
   "source": [
    "# SUBPLOT - https://matplotlib.org/stable/gallery/subplots_axes_and_figures/subplots_demo.html\n",
    "# to show figure in an external window\n",
    "%matplotlib qt\n",
    "fig, axs = plt.subplots(2, 1)\n",
    "\n",
    "axs[0].plot(Y.index, Y.cumsum(), linewidth=1.2, color='cyan')\n",
    "axs[0].plot(Y_hat.index, Y_hat.cumsum(), linewidth=1.2, color='red')\n",
    "axs[0].set_title(\"Cumulative Returns\", fontweight='bold')\n",
    "axs[0].legend(['Real', 'Estimated'], fontsize='medium')\n",
    "axs[0].grid(linestyle='dashed')\n",
    "\n",
    "axs[1].plot(Y.index, Y, linewidth=0.5, color='cyan')\n",
    "axs[1].plot(Y_hat.index, Y_hat, linewidth=0.5, color='red')\n",
    "axs[1].set_title(\"Returns\", fontweight='bold')\n",
    "axs[1].legend(['Real', 'Estimated'], fontsize='medium')\n",
    "axs[1].grid(linestyle='dashed')"
   ]
  },
  {
   "cell_type": "code",
   "execution_count": 65,
   "id": "5b6a050d",
   "metadata": {},
   "outputs": [],
   "source": [
    "TSS: np.array = ((Y-np.mean(Y)).transpose() @ (Y-np.mean(Y))).values   # domandare per metodo .to_numpy()\n",
    "ESS: np.array = ((Y_hat-np.mean(Y)).transpose() @ (Y_hat-np.mean(Y))).values   # domandare per metodo .to_numpy()\n",
    "res: pd.DataFrame = Y - Y_hat\n",
    "SSE: np.array = (res.transpose() @ res).values   # domandare per metodo .to_numpy()\n",
    "R_2 = ESS/TSS\n",
    "T: int = X.shape[0]\n",
    "K: int = X.shape[1]\n",
    "R_2_adj = 1 - (((T-1)/(T-K))*(1-R_2))\n",
    "sig_2 = SSE/(T-K)\n",
    "varcov: np.array = np.linalg.inv(X.transpose() @ X) * sig_2\n",
    "standard_errors = np.sqrt(np.diag(varcov))"
   ]
  },
  {
   "cell_type": "code",
   "execution_count": 66,
   "id": "cae9f077",
   "metadata": {},
   "outputs": [
    {
     "data": {
      "text/html": [
       "<div>\n",
       "<style scoped>\n",
       "    .dataframe tbody tr th:only-of-type {\n",
       "        vertical-align: middle;\n",
       "    }\n",
       "\n",
       "    .dataframe tbody tr th {\n",
       "        vertical-align: top;\n",
       "    }\n",
       "\n",
       "    .dataframe thead th {\n",
       "        text-align: right;\n",
       "    }\n",
       "</style>\n",
       "<table border=\"1\" class=\"dataframe\">\n",
       "  <thead>\n",
       "    <tr style=\"text-align: right;\">\n",
       "      <th></th>\n",
       "      <th>AAPL</th>\n",
       "      <th>T-stat</th>\n",
       "    </tr>\n",
       "  </thead>\n",
       "  <tbody>\n",
       "    <tr>\n",
       "      <th>constant</th>\n",
       "      <td>0.000680</td>\n",
       "      <td>2.690075</td>\n",
       "    </tr>\n",
       "    <tr>\n",
       "      <th>SP500</th>\n",
       "      <td>0.994181</td>\n",
       "      <td>40.380846</td>\n",
       "    </tr>\n",
       "    <tr>\n",
       "      <th>EUR_USD</th>\n",
       "      <td>0.029182</td>\n",
       "      <td>0.621787</td>\n",
       "    </tr>\n",
       "    <tr>\n",
       "      <th>USD_YEN</th>\n",
       "      <td>0.055324</td>\n",
       "      <td>1.220805</td>\n",
       "    </tr>\n",
       "  </tbody>\n",
       "</table>\n",
       "</div>"
      ],
      "text/plain": [
       "              AAPL     T-stat\n",
       "constant  0.000680   2.690075\n",
       "SP500     0.994181  40.380846\n",
       "EUR_USD   0.029182   0.621787\n",
       "USD_YEN   0.055324   1.220805"
      ]
     },
     "execution_count": 66,
     "metadata": {},
     "output_type": "execute_result"
    }
   ],
   "source": [
    "coeffs[\"T-stat\"] = coeffs[\"AAPL\"].values / standard_errors   # domandare per metodo .to_numpy()\n",
    "coeffs"
   ]
  },
  {
   "cell_type": "code",
   "execution_count": 68,
   "id": "02d6d35c",
   "metadata": {},
   "outputs": [
    {
     "name": "stdout",
     "output_type": "stream",
     "text": [
      "Beta SP500 t-value:  40.38084587127951\n",
      "Beta EUR/USD t-value:  0.6217868977640706\n",
      "\n",
      "Critical Value t-student (a=0.05):  1.9608229396972119\n",
      "\n",
      "Not reject the null-hypothesis. Il Beta di Mercato è statisticamente diverso da 0. Vi è una relazione lineare tra SP500 e AAPL\n"
     ]
    }
   ],
   "source": [
    "from scipy.stats import t as t_student\n",
    "\n",
    "t_stat_beta_mkt: float = coeffs.loc[\"SP500\", \"T-stat\"] \n",
    "t_stat_beta_fx: float = coeffs.loc[\"EUR_USD\", \"T-stat\"]\n",
    "\n",
    "# test bilaterale     \n",
    "# test size 5%\n",
    "critical_value: float = np.abs(t_student.ppf(q=1 - 0.05/2, df=T-K))\n",
    "    \n",
    "print('Beta SP500 t-value: ', t_stat_beta_mkt)\n",
    "print('Beta EUR/USD t-value: ', t_stat_beta_fx)\n",
    "\n",
    "print('\\nCritical Value t-student (a=0.05): ', critical_value)\n",
    "\n",
    "if t_stat_beta_mkt > critical_value:\n",
    "    print('\\nReject the null-hypothesis. Il Beta di Mercato è statisticamente diverso da 0. Vi è una relazione lineare tra SP500 e AAPL')\n",
    "else:\n",
    "    print(\"\\nNot reject the null-hypothesis. Il Beta di Mercato è statisticamente uguale a 0. Non vi è una relazione lineare tra SP500 e AAPL\")"
   ]
  },
  {
   "cell_type": "code",
   "execution_count": 69,
   "id": "811009d8",
   "metadata": {},
   "outputs": [
    {
     "data": {
      "text/html": [
       "<div>\n",
       "<style scoped>\n",
       "    .dataframe tbody tr th:only-of-type {\n",
       "        vertical-align: middle;\n",
       "    }\n",
       "\n",
       "    .dataframe tbody tr th {\n",
       "        vertical-align: top;\n",
       "    }\n",
       "\n",
       "    .dataframe thead th {\n",
       "        text-align: right;\n",
       "    }\n",
       "</style>\n",
       "<table border=\"1\" class=\"dataframe\">\n",
       "  <thead>\n",
       "    <tr style=\"text-align: right;\">\n",
       "      <th></th>\n",
       "      <th>AAPL</th>\n",
       "    </tr>\n",
       "  </thead>\n",
       "  <tbody>\n",
       "    <tr>\n",
       "      <th>constant</th>\n",
       "      <td>0.001028</td>\n",
       "    </tr>\n",
       "  </tbody>\n",
       "</table>\n",
       "</div>"
      ],
      "text/plain": [
       "              AAPL\n",
       "constant  0.001028"
      ]
     },
     "execution_count": 69,
     "metadata": {},
     "output_type": "execute_result"
    }
   ],
   "source": [
    "# Stima del modello ridotto\n",
    "X_restricted: pd.DataFrame = X.loc[:, [\"constant\"]]\n",
    "coeffs_restricted: pd.DataFrame = np.linalg.inv(X_restricted.transpose() @ X_restricted) @ X_restricted.transpose() @ Y\n",
    "coeffs_restricted.index = X_restricted.columns  # oltre al matching tra (rows, columns) matriciale; deve matchare anche il nome delle righe con quello delle colonne\n",
    "coeffs_restricted"
   ]
  },
  {
   "cell_type": "code",
   "execution_count": 70,
   "id": "e5c84363",
   "metadata": {},
   "outputs": [],
   "source": [
    "Y_hat_restricted: pd.DataFrame = X_restricted @ coeffs_restricted\n",
    "res_restricted: pd.DataFrame = Y - Y_hat_restricted\n",
    "SSE_restricted: np.array = (res_restricted.transpose() @ res_restricted).values   # domandare per metodo .to_numpy()"
   ]
  },
  {
   "cell_type": "code",
   "execution_count": 82,
   "id": "17156dad-5cb9-416d-bcc6-cb111f56c624",
   "metadata": {},
   "outputs": [
    {
     "data": {
      "image/png": "[encoded data removed]",
      "text/plain": [
       "<Figure size 432x288 with 1 Axes>"
      ]
     },
     "metadata": {
      "needs_background": "light"
     },
     "output_type": "display_data"
    },
    {
     "data": {
      "image/png": "[encoded data removed]",
      "text/plain": [
       "<Figure size 432x288 with 1 Axes>"
      ]
     },
     "metadata": {
      "needs_background": "light"
     },
     "output_type": "display_data"
    },
    {
     "name": "stdout",
     "output_type": "stream",
     "text": [
      "In this case, using Y_hat_restricted that has only the constant term, estimation is basically the mean (try to check if its value is equal to the mean in the above describing table).\n"
     ]
    }
   ],
   "source": [
    "%matplotlib inline\n",
    "\n",
    "plt.figure()\n",
    "plt.plot(Y.index, Y, linewidth=0.5, color='cyan')\n",
    "plt.plot(Y_hat_restricted.index, Y_hat_restricted, linewidth=2, color='red')\n",
    "plt.title('Real vs Restricted_estimation', fontweight='bold')\n",
    "plt.ylabel('Returns')\n",
    "plt.grid(linestyle='dashed')\n",
    "plt.legend(['Real', \"Estimated (restricted)\"], fontsize='small')\n",
    "plt.show()\n",
    "\n",
    "%matplotlib inline\n",
    "\n",
    "plt.figure()\n",
    "plt.plot(Y.index, Y.cumsum(), color='cyan')\n",
    "plt.plot(Y_hat_restricted.index, Y_hat_restricted.cumsum(), linewidth=2, color='red')\n",
    "plt.title('Cumulative Returns', fontweight='bold')\n",
    "plt.ylabel('Returns')\n",
    "plt.grid(linestyle='dashed')\n",
    "plt.legend(['Real', \"Estimated (restricted)\"], fontsize='small')\n",
    "plt.show()\n",
    "\n",
    "print(\"In this case, using Y_hat_restricted that has only the constant term, estimation is basically the mean (try to check if its value is equal to the mean in the above describing table).\")"
   ]
  },
  {
   "cell_type": "code",
   "execution_count": 89,
   "id": "e11a250b",
   "metadata": {},
   "outputs": [
    {
     "name": "stdout",
     "output_type": "stream",
     "text": [
      "F-value:  543.5683509255821\n",
      "Critical-value:  2.0857775749091774\n",
      "\n",
      "We Reject the null\n"
     ]
    }
   ],
   "source": [
    "# F-STAT:\n",
    "# Ipotesi nulla beta_mkt = beta_EUR_USD = beta_USD_YEN = 0\n",
    "\n",
    "from scipy.stats import f as f_fisher\n",
    "\n",
    "F = ((SSE_restricted - SSE)/(K-1))/(SSE/(T-K))\n",
    "critical_value: float = f_fisher.ppf(0.90, K-1, T-K)\n",
    "    \n",
    "print(\"F-value: \",F[0][0])\n",
    "print(\"Critical-value: \", critical_value)\n",
    "\n",
    "# we reject the null\n",
    "if F > critical_value:\n",
    "    print(\"\\nWe Reject the null\")\n",
    "else:\n",
    "    print(\"\\nWe Not Reject the null\")\n",
    "    "
   ]
  },
  {
   "cell_type": "code",
   "execution_count": null,
   "id": "67081872-e704-4faa-9a6c-2e7a99c22fbf",
   "metadata": {},
   "outputs": [],
   "source": [
    "# Potremmo lasciare come esercizio:\n",
    "#\n",
    "# 1. Rifare la regressione su ABI e W500 (sono in grado di farlo senza usare un for infinito ma usando le proprietà matriciali?)\n",
    "# 2. Fare forecast per esercizio (in-sample / out-sample)\n",
    "# 3. Calcolare Intervallo di Confidenza (IC). Provare a plottare cum-rets usando il Beta risultante da OLS e i beta che assumo valore agli estremi dell'IC. Stiamo visualizzando un intervallo di confidenza della regressione?"
   ]
  }
 ],
 "metadata": {
  "kernelspec": {
   "display_name": "Python 3",
   "language": "python",
   "name": "python3"
  },
  "language_info": {
   "codemirror_mode": {
    "name": "ipython",
    "version": 3
   },
   "file_extension": ".py",
   "mimetype": "text/x-python",
   "name": "python",
   "nbconvert_exporter": "python",
   "pygments_lexer": "ipython3",
   "version": "3.8.10"
  }
 },
 "nbformat": 4,
 "nbformat_minor": 5
}
