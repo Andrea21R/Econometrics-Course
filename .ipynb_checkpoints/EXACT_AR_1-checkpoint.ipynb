{
 "cells": [
  {
   "cell_type": "code",
   "execution_count": 1,
   "id": "e9da9da2",
   "metadata": {},
   "outputs": [],
   "source": [
    "import numpy as np\n",
    "from statsmodels.tsa.arima_process import ArmaProcess\n",
    "from scipy.optimize import fmin_slsqp\n",
    "from scipy.optimize import minimize"
   ]
  },
  {
   "cell_type": "code",
   "execution_count": 2,
   "id": "aa557bb8",
   "metadata": {},
   "outputs": [],
   "source": [
    "np.random.seed(12345)\n",
    "ar2 = np.array([1, 0.5])\n",
    "ma = np.array([1])\n",
    "N = 200\n",
    "sim = ArmaProcess(ar2, ma).generate_sample(nsample=N)"
   ]
  },
  {
   "cell_type": "code",
   "execution_count": 3,
   "id": "638527e4",
   "metadata": {},
   "outputs": [],
   "source": [
    "def logLikeAR_1(parameters, data):\n",
    "    c = parameters[0]\n",
    "    phi = parameters[1]\n",
    "    sigma_2 = parameters[2]\n",
    "    Lik = np.zeros(len(data))\n",
    "    Lik[0] = -0.5*np.log(2*np.pi)-0.5*np.log(sigma_2/(1-phi**2))-((1-phi**2)/2*sigma_2)*(data[0]-c/(1-phi))**2\n",
    "    for i in range(1,len(data)):\n",
    "        Lik[i] = -0.5*np.log(2*np.pi)-0.5*np.log(sigma_2)-0.5*(data[i]-c-phi*data[i-1])**2/sigma_2\n",
    "    return Lik"
   ]
  },
  {
   "cell_type": "code",
   "execution_count": 4,
   "id": "5604d2f2",
   "metadata": {},
   "outputs": [],
   "source": [
    "def avg_logLikeAR_1(parameters, data):\n",
    "    c = parameters[0]\n",
    "    phi = parameters[1]\n",
    "    sigma_2 = parameters[2]\n",
    "    Lik = np.zeros(len(data))\n",
    "    Lik[0] = -0.5*np.log(2*np.pi)-0.5*np.log(sigma_2/(1-phi**2))-((1-phi**2)/2*sigma_2)*(data[0]-c/(1-phi))**2\n",
    "    for i in range(1,len(data)):\n",
    "        Lik[i] = -0.5*np.log(2*np.pi)-0.5*np.log(sigma_2)-0.5*(data[i]-c-phi*data[i-1])**2/sigma_2\n",
    "    return -sum(Lik)/len(sim)"
   ]
  },
  {
   "cell_type": "code",
   "execution_count": 5,
   "id": "6874404c",
   "metadata": {},
   "outputs": [
    {
     "data": {
      "text/plain": [
       "      fun: 1.419636480608691\n",
       " hess_inv: <3x3 LbfgsInvHessProduct with dtype=float64>\n",
       "      jac: array([-6.43929354e-07, -1.33226763e-07, -6.66133811e-08])\n",
       "  message: 'CONVERGENCE: NORM_OF_PROJECTED_GRADIENT_<=_PGTOL'\n",
       "     nfev: 52\n",
       "      nit: 11\n",
       "     njev: 13\n",
       "   status: 0\n",
       "  success: True\n",
       "        x: array([-5.97922951e-04, -4.47352303e-01,  9.99945468e-01])"
      ]
     },
     "execution_count": 5,
     "metadata": {},
     "output_type": "execute_result"
    }
   ],
   "source": [
    "x0 = np.array([1,0.4,1])\n",
    "b = [(-10, 10), (-0.999, 0.999), (0.001,10)]\n",
    "estimates = minimize(avg_logLikeAR_1, x0, bounds = b, args = sim)\n",
    "estimates.x\n",
    "estimates"
   ]
  },
  {
   "cell_type": "code",
   "execution_count": 6,
   "id": "59c6f4f7",
   "metadata": {},
   "outputs": [],
   "source": [
    "h = 0.00001\n",
    "pos = np.identity(len(estimates.x))\n",
    "# Grad = np.zeros((len(estimates.x),len(sim)))\n",
    "Grad = np.zeros((len(sim), len(estimates.x)))\n",
    "for i in range(len(estimates.x)):\n",
    "    if estimates.x[i]>1:\n",
    "        Grad[:,i] = (logLikeAR_1(np.multiply(estimates.x, 1 + h*pos[:,i]), sim) - logLikeAR_1(estimates.x, sim))/estimates.x[i]*h\n",
    "    else:\n",
    "        Grad[:,i] = (logLikeAR_1(estimates.x + h*pos[:,i], sim) - logLikeAR_1(estimates.x, sim))/h"
   ]
  },
  {
   "cell_type": "code",
   "execution_count": 20,
   "id": "ba0b60bc",
   "metadata": {},
   "outputs": [
    {
     "data": {
      "text/plain": [
       "array([[ 1.99392947e+02,  4.65405492e-01,  2.22932783e-01],\n",
       "       [ 4.65405492e-01,  2.52135202e+02, -5.19584376e-01],\n",
       "       [ 2.22932783e-01, -5.19584376e-01,  1.00042197e+02]])"
      ]
     },
     "execution_count": 20,
     "metadata": {},
     "output_type": "execute_result"
    }
   ],
   "source": [
    "# Hessian\n",
    "h = 0.00001\n",
    "pos = np.identity(len(estimates.x))\n",
    "H = np.zeros((len(estimates.x),len(estimates.x)))\n",
    "for i in range(len(estimates.x)):\n",
    "    if estimates.x[i]>1:\n",
    "        x0P = np.multiply(estimates.x, 1 + (h/2)*pos[:,i])\n",
    "        x0N = np.multiply(estimates.x, 1 - (h/2)*pos[:,i])\n",
    "        Deltai = estimates.x[i]*h\n",
    "    else:\n",
    "        x0P = estimates.x + (h/2)*pos[:,i]\n",
    "        x0N = estimates.x - (h/2)*pos[:,i]\n",
    "        Deltai = h\n",
    "    for j in range(0, i+1):\n",
    "        if estimates.x[j]>1:\n",
    "            x0PP = np.multiply(x0P, 1 + (h/2)*pos[:,j])\n",
    "            x0PN = np.multiply(x0P, 1 - (h/2)*pos[:,j])\n",
    "            x0NP = np.multiply(x0N, 1 + (h/2)*pos[:,j])\n",
    "            x0NN = np.multiply(x0N, 1 - (h/2)*pos[:,j])\n",
    "            fPP = -logLikeAR_1(x0PP, sim)/len(sim)\n",
    "            fPN = -logLikeAR_1(x0PN, sim)/len(sim)\n",
    "            fNP = -logLikeAR_1(x0NP, sim)/len(sim)\n",
    "            fNN = -logLikeAR_1(x0NN, sim)/len(sim)\n",
    "            H[i,j] = (sum(fPP)-sum(fPN)-sum(fNP)+sum(fNN))/(Deltai*h*estimates.x[j])\n",
    "            H[j,i] = H[i,j]\n",
    "        else:\n",
    "            x0PP = x0P + (h/2)*pos[:,j]\n",
    "            x0PN = x0P - (h/2)*pos[:,j]\n",
    "            x0NP = x0N + (h/2)*pos[:,j]\n",
    "            x0NN = x0N - (h/2)*pos[:,j]\n",
    "            fPP = -logLikeAR_1(x0PP, sim)/len(sim)\n",
    "            fPN = -logLikeAR_1(x0PN, sim)/len(sim)\n",
    "            fNP = -logLikeAR_1(x0NP, sim)/len(sim)\n",
    "            fNN = -logLikeAR_1(x0NN, sim)/len(sim)\n",
    "            H[i,j] = (sum(fPP)-sum(fPN)-sum(fNP)+sum(fNN))/(h*Deltai)\n",
    "            H[j,i] = H[i,j]\n",
    "        # fPP = avg_logLikeAR_1(x0PP, sim)\n",
    "        # fPN = avg_logLikeAR_1(x0PN, sim)\n",
    "        # fNP = avg_logLikeAR_1(x0NP, sim)\n",
    "        # fNN = avg_logLikeAR_1(x0NN, sim)\n",
    "        # fPP = -logLikeAR_1(x0PP, sim)\n",
    "        # fPN = -logLikeAR_1(x0PN, sim)\n",
    "        # fNP = -logLikeAR_1(x0NP, sim)\n",
    "        # fNN = -logLikeAR_1(x0NN, sim)\n",
    "        # H[i,j] = (fPP-fPN-fNP+fNN)/Delta\n",
    "        # H[j,i] = H[i,j]\n",
    "# H*len(sim)\n",
    "H*len(sim)"
   ]
  },
  {
   "cell_type": "code",
   "execution_count": 24,
   "id": "451cb4a9",
   "metadata": {},
   "outputs": [
    {
     "data": {
      "text/plain": [
       "array([[ 5.01525675e-03, -9.28057608e-06, -1.12241357e-05],\n",
       "       [-9.28057608e-06,  3.96618571e-03,  2.06196699e-05],\n",
       "       [-1.12241357e-05,  2.06196699e-05,  9.99591421e-03]])"
      ]
     },
     "execution_count": 24,
     "metadata": {},
     "output_type": "execute_result"
    }
   ],
   "source": [
    "np.linalg.inv(H*len(sim))"
   ]
  },
  {
   "cell_type": "code",
   "execution_count": 15,
   "id": "24ca2032",
   "metadata": {},
   "outputs": [
    {
     "name": "stdout",
     "output_type": "stream",
     "text": [
      "[[ 0.00503726  0.00021621 -0.00053006]\n",
      " [ 0.00021621  0.00411392  0.00016492]\n",
      " [-0.00053006  0.00016492  0.01062969]]\n"
     ]
    },
    {
     "data": {
      "text/plain": [
       "array([0.07097364, 0.06413983, 0.10310039])"
      ]
     },
     "execution_count": 15,
     "metadata": {},
     "output_type": "execute_result"
    }
   ],
   "source": [
    "# Variance-Covariance: Outer Product Gradient\n",
    "# VC_0 = np.linalg.inv(np.outer(Grad, Grad))\n",
    "# np.diag(VC_0)**0.5\n",
    "VC_0 = np.linalg.inv(np.dot(np.transpose(Grad), Grad))\n",
    "print(VC_0)\n",
    "np.diag(VC_0)**0.5"
   ]
  },
  {
   "cell_type": "code",
   "execution_count": 23,
   "id": "3cefe0ad",
   "metadata": {},
   "outputs": [
    {
     "name": "stdout",
     "output_type": "stream",
     "text": [
      "[[ 0.0050319  -0.0002343   0.00048596]\n",
      " [-0.0002343   0.00383567 -0.00013256]\n",
      " [ 0.00048596 -0.00013256  0.00945326]]\n"
     ]
    },
    {
     "data": {
      "text/plain": [
       "array([0.0709359 , 0.06193276, 0.09722786])"
      ]
     },
     "execution_count": 23,
     "metadata": {},
     "output_type": "execute_result"
    }
   ],
   "source": [
    "# Variance-Covariance: Sandwich\n",
    "Outer = np.dot(np.transpose(Grad), Grad)\n",
    "VC_1 = np.dot(np.dot(np.linalg.inv(H*len(sim)), Outer),np.linalg.inv(H*len(sim)))\n",
    "print(VC_1)\n",
    "np.diag(VC_1)**0.5"
   ]
  },
  {
   "cell_type": "code",
   "execution_count": 26,
   "id": "de08c462",
   "metadata": {},
   "outputs": [
    {
     "data": {
      "text/plain": [
       "array([1.00152451, 0.89063861, 1.41392462])"
      ]
     },
     "execution_count": 26,
     "metadata": {},
     "output_type": "execute_result"
    }
   ],
   "source": [
    "# Information Matrix (default)\n",
    "VC_2 = np.linalg.inv(H)\n",
    "np.diag(VC_2)**0.5"
   ]
  }
 ],
 "metadata": {
  "kernelspec": {
   "display_name": "Python 3",
   "language": "python",
   "name": "python3"
  },
  "language_info": {
   "codemirror_mode": {
    "name": "ipython",
    "version": 3
   },
   "file_extension": ".py",
   "mimetype": "text/x-python",
   "name": "python",
   "nbconvert_exporter": "python",
   "pygments_lexer": "ipython3",
   "version": "3.8.10"
  }
 },
 "nbformat": 4,
 "nbformat_minor": 5
}
