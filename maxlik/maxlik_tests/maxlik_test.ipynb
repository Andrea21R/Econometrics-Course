{
 "cells": [
  {
   "cell_type": "code",
   "execution_count": 1,
   "metadata": {},
   "outputs": [
    {
     "name": "stderr",
     "output_type": "stream",
     "text": [
      "C:\\Users\\andre\\AppData\\Local\\Programs\\Python\\Python39\\lib\\site-packages\\statsmodels\\compat\\pandas.py:65: FutureWarning: pandas.Int64Index is deprecated and will be removed from pandas in a future version. Use pandas.Index with the appropriate dtype instead.\n",
      "  from pandas import Int64Index as NumericIndex\n"
     ]
    }
   ],
   "source": [
    "import numpy as np\n",
    "import pandas as pd\n",
    "from statsmodels.tsa.arima_process import ArmaProcess"
   ]
  },
  {
   "cell_type": "code",
   "execution_count": 2,
   "metadata": {},
   "outputs": [],
   "source": [
    "import os\n",
    "import sys\n",
    "from pathlib import Path\n",
    "\n",
    "root = str(Path('~').expanduser())  # get your root path (C:\\\\Users\\your_name)\n",
    "maxlik_path = \"\\PycharmProjects\\Econometrics-Course\\maxlik\"\n",
    "sys.path.insert(0, root + maxlik_path)  # add MaxLik path in your system (sys) path list"
   ]
  },
  {
   "cell_type": "code",
   "execution_count": 3,
   "metadata": {},
   "outputs": [],
   "source": [
    "from maxlik import MaxLik"
   ]
  },
  {
   "cell_type": "code",
   "execution_count": 4,
   "metadata": {},
   "outputs": [],
   "source": [
    "root = str(Path('~').expanduser())  # get your root path (C:\\\\Users\\your_name)\n",
    "likelihood_func = \"\\PycharmProjects\\Econometrics-Course\\maxlik\\likelihood\"\n",
    "sys.path.insert(0, root + likelihood_func)  # add MaxLik path in your system (sys) path list\n",
    "\n",
    "from likelihood import ar1_loglike, garch_loglik"
   ]
  },
  {
   "cell_type": "code",
   "execution_count": 5,
   "metadata": {},
   "outputs": [
    {
     "name": "stdout",
     "output_type": "stream",
     "text": [
      "===================================================================================================\n",
      "======================== MAX LIK OPTIMIZER - by Prof.Carlini et Al. ===============================\n",
      "===================================================================================================\n",
      "\n",
      "function minimized: ar1_loglike\n",
      "elapsed time: 0.320122s\n",
      "\n",
      "number of observation: 1000\n",
      "number of parameters: 3\n",
      "function value: 1.3983245659670756\n",
      "\n",
      "variance-covariance method: outer\n",
      "\n",
      "=================================================================================================\n",
      "\n",
      "       beta value     SE   Z-test conf p-value\n",
      "beta0    -0.0022  0.031   -0.072        0.943\n",
      "beta1    -0.4976  0.028  -17.615  ***     0.0\n",
      "beta2     0.9593  0.042   22.757  ***     0.0\n",
      "\n",
      " * alpha = 0.1\n",
      " ** alpha = 0.05\n",
      " *** alpha = 0.01\n",
      "\n",
      "================================= ENJOY ECONOMETRICS GUYS =======================================\n"
     ]
    }
   ],
   "source": [
    "np.random.seed(12345)\n",
    "ar2 = np.array([1, 0.5])\n",
    "ma = np.array([1])\n",
    "N = 1_000\n",
    "data = ArmaProcess(ar2, ma).generate_sample(nsample=N)\n",
    "x0 = np.array([1, 0.4, 1])\n",
    "\n",
    "bounds = [[-10, 10], [-0.999, 0.999], [0.001, 10]]\n",
    "\n",
    "boss = MaxLik(\n",
    "    func_vector=ar1_loglike,\n",
    "    data=data,\n",
    "    initial_guess=x0,\n",
    "    bounds=bounds,\n",
    "    method_se_optimization='outer'\n",
    ")\n",
    "summary = boss.get_summary(printing=True)  # if you set printing=False you'll only save df into variable, no printing."
   ]
  },
  {
   "cell_type": "code",
   "execution_count": 6,
   "metadata": {},
   "outputs": [
    {
     "name": "stdout",
     "output_type": "stream",
     "text": [
      " \n",
      "\n",
      "===================================================================================================\n",
      "======================== MAX LIK OPTIMIZER - by Prof.Carlini et Al. ===============================\n",
      "===================================================================================================\n",
      "\n",
      "function minimized: garch_loglik\n",
      "elapsed time: 2.898503s\n",
      "\n",
      "number of observation: 1000\n",
      "number of parameters: 4\n",
      "function value: 1.3886963232815495\n",
      "\n",
      "variance-covariance method: outer\n",
      "\n",
      "=================================================================================================\n",
      "\n",
      "       beta value     SE Z-test conf p-value\n",
      "beta0     0.0698  0.029  2.382  ***   0.017\n",
      "beta1     0.3288   0.07  4.673  ***     0.0\n",
      "beta2     0.2463  0.042  5.795  ***     0.0\n",
      "beta3     0.4333  0.088  4.916  ***     0.0\n",
      "\n",
      " * alpha = 0.1\n",
      " ** alpha = 0.05\n",
      " *** alpha = 0.01\n",
      "\n",
      "================================= ENJOY ECONOMETRICS GUYS =======================================\n"
     ]
    }
   ],
   "source": [
    "# ========================================= GARCH(1) TEST ==============================================================\n",
    "data = np.array(pd.read_excel(\"~\\PycharmProjects\\Econometrics-Course\\maxlik\\maxlik_tests\\GARCH_simulation.xlsx\"))\n",
    "bounds = [[-10, 10], [0.000009, 10], [0.000009, 10], [0.000009, 10]]\n",
    "cons = ({'type': 'ineq', 'fun': lambda p: -(p[2] + p[3]) + 1})\n",
    "x0 = np.array([1, 0.4, 1, 1])\n",
    "\n",
    "boss = MaxLik(\n",
    "    func_vector=garch_loglik,\n",
    "    data=data,\n",
    "    initial_guess=x0,\n",
    "    bounds=bounds,\n",
    "    constraints=cons,\n",
    "    method_se_optimization='outer'\n",
    ")\n",
    "print(' \\n')\n",
    "summary = boss.get_summary(printing=True)"
   ]
  }
 ],
 "metadata": {
  "interpreter": {
   "hash": "468f25ad0239460415b7e6b7483d5c8f7213894121f6fb96c4cb6ef93fffe534"
  },
  "kernelspec": {
   "display_name": "Python 3.9.0 64-bit",
   "language": "python",
   "name": "python3"
  },
  "language_info": {
   "codemirror_mode": {
    "name": "ipython",
    "version": 3
   },
   "file_extension": ".py",
   "mimetype": "text/x-python",
   "name": "python",
   "nbconvert_exporter": "python",
   "pygments_lexer": "ipython3",
   "version": "3.9.0"
  },
  "orig_nbformat": 4
 },
 "nbformat": 4,
 "nbformat_minor": 2
}
